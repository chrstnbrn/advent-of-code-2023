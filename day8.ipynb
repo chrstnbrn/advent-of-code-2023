{
 "cells": [
  {
   "cell_type": "code",
   "execution_count": 1,
   "metadata": {
    "collapsed": true,
    "ExecuteTime": {
     "end_time": "2023-12-09T07:04:23.689411100Z",
     "start_time": "2023-12-09T07:04:23.282882300Z"
    }
   },
   "outputs": [],
   "source": [
    "import kotlin.io.path.Path\n",
    "import kotlin.io.path.readLines\n",
    "\n",
    "val input = Path(\"day8.txt\").readLines()\n",
    "\n",
    "val exampleInput = listOf(\n",
    "    \"RL\",\n",
    "    \"\",\n",
    "    \"AAA = (BBB, CCC)\",\n",
    "    \"BBB = (DDD, EEE)\",\n",
    "    \"CCC = (ZZZ, GGG)\",\n",
    "    \"DDD = (DDD, DDD)\",\n",
    "    \"EEE = (EEE, EEE)\",\n",
    "    \"GGG = (GGG, GGG)\",\n",
    "    \"ZZZ = (ZZZ, ZZZ)\",\n",
    ")"
   ]
  },
  {
   "cell_type": "markdown",
   "source": [
    "# Part 1"
   ],
   "metadata": {
    "collapsed": false
   }
  },
  {
   "cell_type": "code",
   "execution_count": 2,
   "outputs": [],
   "source": [
    "enum class Direction { Right, Left }\n",
    "\n",
    "fun parseDirections(input: List<String>): List<Direction> {\n",
    "    return input[0].map {\n",
    "        when (it) {\n",
    "            'R' -> Direction.Right\n",
    "            'L' -> Direction.Left\n",
    "            else -> throw IllegalArgumentException(\"invalid direction $it\")\n",
    "        }\n",
    "    }\n",
    "}\n",
    "\n",
    "typealias Position = String\n",
    "\n",
    "fun parseInstructions(input: List<String>): Map<Position, Pair<Position, Position>> {\n",
    "    return input.drop(2)\n",
    "        .map {\n",
    "            val (pos1, pos2, pos3) = it.split(\" = (\", \", \", \")\")\n",
    "            pos1 to (pos2 to pos3)\n",
    "        }\n",
    "        .toMap()\n",
    "}\n",
    "\n",
    "fun followInstruction(\n",
    "    instructions: Map<Position, Pair<Position, Position>>,\n",
    "    currentPosition: Position,\n",
    "    direction: Direction\n",
    "): Position {\n",
    "    val choice = instructions[currentPosition]!!\n",
    "    return when (direction) {\n",
    "        Direction.Left -> choice.first\n",
    "        Direction.Right -> choice.second\n",
    "    }\n",
    "}\n",
    "\n",
    "fun <T> Sequence<T>.repeat() = sequence { while (true) yieldAll(this@repeat) }\n",
    "\n",
    "fun getPathSequence(\n",
    "    startingPosition: Position,\n",
    "    directions: List<Direction>,\n",
    "    instructions: Map<Position, Pair<Position, Position>>\n",
    "): Sequence<Position> {\n",
    "    return directions.asSequence().repeat()\n",
    "        .scan(startingPosition) { currentPosition, direction ->\n",
    "            followInstruction(instructions, currentPosition, direction)\n",
    "        }\n",
    "}\n",
    "\n",
    "fun getSteps(input: List<String>): Int {\n",
    "    val directions = parseDirections(input)\n",
    "    val instructions = parseInstructions(input)\n",
    "\n",
    "    return getPathSequence(\"AAA\", directions, instructions)\n",
    "        .takeWhile { it != \"ZZZ\" }\n",
    "        .count()\n",
    "}"
   ],
   "metadata": {
    "collapsed": false,
    "ExecuteTime": {
     "end_time": "2023-12-09T07:04:25.275038900Z",
     "start_time": "2023-12-09T07:04:23.681410800Z"
    }
   }
  },
  {
   "cell_type": "markdown",
   "source": [
    "## Example"
   ],
   "metadata": {
    "collapsed": false
   }
  },
  {
   "cell_type": "code",
   "execution_count": 3,
   "outputs": [
    {
     "data": {
      "text/plain": "2"
     },
     "execution_count": 3,
     "metadata": {},
     "output_type": "execute_result"
    }
   ],
   "source": [
    "getSteps(exampleInput)"
   ],
   "metadata": {
    "collapsed": false,
    "ExecuteTime": {
     "end_time": "2023-12-09T07:04:25.430573800Z",
     "start_time": "2023-12-09T07:04:25.278039700Z"
    }
   }
  },
  {
   "cell_type": "code",
   "execution_count": 4,
   "outputs": [
    {
     "data": {
      "text/plain": "6"
     },
     "execution_count": 4,
     "metadata": {},
     "output_type": "execute_result"
    }
   ],
   "source": [
    "getSteps(\n",
    "    listOf(\n",
    "        \"LLR\",\n",
    "        \"\",\n",
    "        \"AAA = (BBB, BBB)\",\n",
    "        \"BBB = (AAA, ZZZ)\",\n",
    "        \"ZZZ = (ZZZ, ZZZ)\",\n",
    "    )\n",
    ")"
   ],
   "metadata": {
    "collapsed": false,
    "ExecuteTime": {
     "end_time": "2023-12-09T07:04:25.593833900Z",
     "start_time": "2023-12-09T07:04:25.433574400Z"
    }
   }
  },
  {
   "cell_type": "markdown",
   "source": [
    "## Solution"
   ],
   "metadata": {
    "collapsed": false
   }
  },
  {
   "cell_type": "code",
   "execution_count": 5,
   "outputs": [
    {
     "data": {
      "text/plain": "19783"
     },
     "execution_count": 5,
     "metadata": {},
     "output_type": "execute_result"
    }
   ],
   "source": [
    "getSteps(input)"
   ],
   "metadata": {
    "collapsed": false,
    "ExecuteTime": {
     "end_time": "2023-12-09T07:04:25.809345Z",
     "start_time": "2023-12-09T07:04:25.585834Z"
    }
   }
  },
  {
   "cell_type": "markdown",
   "source": [
    "# Part 2"
   ],
   "metadata": {
    "collapsed": false
   }
  },
  {
   "cell_type": "code",
   "execution_count": 6,
   "outputs": [],
   "source": [
    "fun getSteps(input: List<String>): Long {\n",
    "    val directions = parseDirections(input)\n",
    "    val instructions = parseInstructions(input)\n",
    "\n",
    "    val startingNodes = instructions.keys.filter { it.endsWith(\"A\") }\n",
    "    val paths = startingNodes.map { getPathSequence(it, directions, instructions).takeWhile { !it.endsWith(\"Z\") } }\n",
    "    val pathSizes = paths.map { it.count().toLong() }\n",
    "    return lcm(pathSizes)\n",
    "}\n",
    "\n",
    "fun lcm(a: Long, b: Long) = a * (b / gcd(a, b))\n",
    "fun lcm(input: List<Long>) = input.reduce { current, i -> lcm(current, i) }\n",
    "\n",
    "fun gcd(a: Long, b: Long): Long {\n",
    "    var a = a\n",
    "    var b = b\n",
    "    while (b > 0) {\n",
    "        val temp = b\n",
    "        b = a % b\n",
    "        a = temp\n",
    "    }\n",
    "    return a\n",
    "}\n"
   ],
   "metadata": {
    "collapsed": false,
    "ExecuteTime": {
     "end_time": "2023-12-09T07:04:26.356109200Z",
     "start_time": "2023-12-09T07:04:25.795314800Z"
    }
   }
  },
  {
   "cell_type": "markdown",
   "source": [
    "## Example"
   ],
   "metadata": {
    "collapsed": false
   }
  },
  {
   "cell_type": "code",
   "execution_count": 7,
   "outputs": [
    {
     "data": {
      "text/plain": "6"
     },
     "execution_count": 7,
     "metadata": {},
     "output_type": "execute_result"
    }
   ],
   "source": [
    "getSteps(\n",
    "    listOf(\n",
    "        \"LR\",\n",
    "        \"\",\n",
    "        \"11A = (11B, XXX)\",\n",
    "        \"11B = (XXX, 11Z)\",\n",
    "        \"11Z = (11B, XXX)\",\n",
    "        \"22A = (22B, XXX)\",\n",
    "        \"22B = (22C, 22C)\",\n",
    "        \"22C = (22Z, 22Z)\",\n",
    "        \"22Z = (22B, 22B)\",\n",
    "        \"XXX = (XXX, XXX)\",\n",
    "    )\n",
    ")"
   ],
   "metadata": {
    "collapsed": false,
    "ExecuteTime": {
     "end_time": "2023-12-09T07:04:26.531084Z",
     "start_time": "2023-12-09T07:04:26.379179900Z"
    }
   }
  },
  {
   "cell_type": "markdown",
   "source": [
    "## Solution"
   ],
   "metadata": {
    "collapsed": false
   }
  },
  {
   "cell_type": "code",
   "execution_count": 8,
   "outputs": [
    {
     "data": {
      "text/plain": "9177460370549"
     },
     "execution_count": 8,
     "metadata": {},
     "output_type": "execute_result"
    }
   ],
   "source": [
    "getSteps(input)"
   ],
   "metadata": {
    "collapsed": false,
    "ExecuteTime": {
     "end_time": "2023-12-09T07:04:26.696833100Z",
     "start_time": "2023-12-09T07:04:26.511934900Z"
    }
   }
  }
 ],
 "metadata": {
  "kernelspec": {
   "display_name": "Kotlin",
   "language": "kotlin",
   "name": "kotlin"
  },
  "language_info": {
   "name": "kotlin",
   "version": "1.9.0",
   "mimetype": "text/x-kotlin",
   "file_extension": ".kt",
   "pygments_lexer": "kotlin",
   "codemirror_mode": "text/x-kotlin",
   "nbconvert_exporter": ""
  }
 },
 "nbformat": 4,
 "nbformat_minor": 0
}
