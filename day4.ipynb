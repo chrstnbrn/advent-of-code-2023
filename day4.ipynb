{
 "cells": [
  {
   "cell_type": "code",
   "execution_count": 1,
   "metadata": {
    "collapsed": true,
    "ExecuteTime": {
     "end_time": "2023-12-04T06:42:42.623593800Z",
     "start_time": "2023-12-04T06:42:41.152817900Z"
    }
   },
   "outputs": [],
   "source": [
    "import kotlin.io.path.Path\n",
    "import kotlin.io.path.readLines\n",
    "\n",
    "val input = Path(\"day4.txt\").readLines()\n",
    "\n",
    "val exampleInput = listOf(\n",
    "    \"Card 1: 41 48 83 86 17 | 83 86  6 31 17  9 48 53\",\n",
    "    \"Card 2: 13 32 20 16 61 | 61 30 68 82 17 32 24 19\",\n",
    "    \"Card 3:  1 21 53 59 44 | 69 82 63 72 16 21 14  1\",\n",
    "    \"Card 4: 41 92 73 84 69 | 59 84 76 51 58  5 54 83\",\n",
    "    \"Card 5: 87 83 26 28 32 | 88 30 70 12 93 22 82 36\",\n",
    "    \"Card 6: 31 18 13 56 72 | 74 77 10 23 35 67 36 11\",\n",
    ")\n",
    "\n",
    "data class Card(\n",
    "    val cardNumber: Int, \n",
    "    val winningNumbers: Set<Int>, \n",
    "    val numbers: Set<Int>,\n",
    ")\n",
    "\n",
    "fun parseCard(value: String): Card {\n",
    "    val (part1, part2, part3) = value.split(\":\", \"|\")\n",
    "    val cardNumber = part1.substringAfter(\"Card \").trim().toInt()\n",
    "    val winningNumbers = part2.split(\" \").filter { it.isNotBlank() }.map { it.toInt() }.toSet()\n",
    "    val numbers = part3.split(\" \").filter { it.isNotBlank() }.map { it.toInt() }.toSet()\n",
    "    return Card(cardNumber, winningNumbers, numbers)\n",
    "}\n",
    "\n",
    "val cards = input.map { parseCard(it) }\n",
    "val exampleCards = exampleInput.map { parseCard(it) }"
   ]
  },
  {
   "cell_type": "markdown",
   "source": [
    "# Part 1"
   ],
   "metadata": {
    "collapsed": false
   }
  },
  {
   "cell_type": "code",
   "execution_count": 2,
   "outputs": [],
   "source": [
    "fun Card.matchingNumbersCount() = numbers.intersect(winningNumbers).size\n",
    "\n",
    "fun getPoints(card: Card) = \n",
    "    Math.pow(2.0, card.matchingNumbersCount().toDouble() - 1).toInt()"
   ],
   "metadata": {
    "collapsed": false,
    "ExecuteTime": {
     "end_time": "2023-12-04T06:42:42.853235600Z",
     "start_time": "2023-12-04T06:42:42.629591900Z"
    }
   }
  },
  {
   "cell_type": "markdown",
   "source": [
    "## Example"
   ],
   "metadata": {
    "collapsed": false
   }
  },
  {
   "cell_type": "code",
   "execution_count": 3,
   "outputs": [
    {
     "data": {
      "text/plain": "13"
     },
     "execution_count": 3,
     "metadata": {},
     "output_type": "execute_result"
    }
   ],
   "source": [
    "exampleCards.sumOf { getPoints(it) }\n"
   ],
   "metadata": {
    "collapsed": false,
    "ExecuteTime": {
     "end_time": "2023-12-04T06:42:43.242796Z",
     "start_time": "2023-12-04T06:42:42.857233500Z"
    }
   }
  },
  {
   "cell_type": "markdown",
   "source": [
    "## Solution"
   ],
   "metadata": {
    "collapsed": false
   }
  },
  {
   "cell_type": "code",
   "execution_count": 4,
   "outputs": [
    {
     "data": {
      "text/plain": "22193"
     },
     "execution_count": 4,
     "metadata": {},
     "output_type": "execute_result"
    }
   ],
   "source": [
    "cards.sumOf { getPoints(it) }"
   ],
   "metadata": {
    "collapsed": false,
    "ExecuteTime": {
     "end_time": "2023-12-04T06:42:43.300302600Z",
     "start_time": "2023-12-04T06:42:43.074271200Z"
    }
   }
  },
  {
   "cell_type": "markdown",
   "source": [
    "# Part 2"
   ],
   "metadata": {
    "collapsed": false
   }
  },
  {
   "cell_type": "code",
   "execution_count": 5,
   "outputs": [],
   "source": [
    "fun getTotalCardCount(cards: List<Card>): Int {\n",
    "    val cardCounts = cards.associate { it.cardNumber to 1 }.toMutableMap()\n",
    "\n",
    "    for (card in cards) {\n",
    "        val wonCardNumbers = card.cardNumber + 1..card.cardNumber + card.matchingNumbersCount()\n",
    "        val currentCardCount = cardCounts[card.cardNumber]!!\n",
    "        wonCardNumbers.forEach { cardCounts.merge(it, currentCardCount, Int::plus) }\n",
    "    }\n",
    "\n",
    "    return cardCounts.values.sum()\n",
    "}"
   ],
   "metadata": {
    "collapsed": false,
    "ExecuteTime": {
     "end_time": "2023-12-04T06:42:43.720785400Z",
     "start_time": "2023-12-04T06:42:43.196787900Z"
    }
   }
  },
  {
   "cell_type": "markdown",
   "source": [
    "## Example"
   ],
   "metadata": {
    "collapsed": false
   }
  },
  {
   "cell_type": "code",
   "execution_count": 6,
   "outputs": [
    {
     "data": {
      "text/plain": "30"
     },
     "execution_count": 6,
     "metadata": {},
     "output_type": "execute_result"
    }
   ],
   "source": [
    "getTotalCardCount(exampleCards)"
   ],
   "metadata": {
    "collapsed": false,
    "ExecuteTime": {
     "end_time": "2023-12-04T06:42:43.804305400Z",
     "start_time": "2023-12-04T06:42:43.674789500Z"
    }
   }
  },
  {
   "cell_type": "markdown",
   "source": [
    "## Solution"
   ],
   "metadata": {
    "collapsed": false
   }
  },
  {
   "cell_type": "code",
   "execution_count": 7,
   "outputs": [
    {
     "data": {
      "text/plain": "5625994"
     },
     "execution_count": 7,
     "metadata": {},
     "output_type": "execute_result"
    }
   ],
   "source": [
    "getTotalCardCount(cards)"
   ],
   "metadata": {
    "collapsed": false,
    "ExecuteTime": {
     "end_time": "2023-12-04T06:42:43.969320100Z",
     "start_time": "2023-12-04T06:42:43.760306200Z"
    }
   }
  }
 ],
 "metadata": {
  "kernelspec": {
   "display_name": "Kotlin",
   "language": "kotlin",
   "name": "kotlin"
  },
  "language_info": {
   "name": "kotlin",
   "version": "1.9.0",
   "mimetype": "text/x-kotlin",
   "file_extension": ".kt",
   "pygments_lexer": "kotlin",
   "codemirror_mode": "text/x-kotlin",
   "nbconvert_exporter": ""
  }
 },
 "nbformat": 4,
 "nbformat_minor": 0
}
