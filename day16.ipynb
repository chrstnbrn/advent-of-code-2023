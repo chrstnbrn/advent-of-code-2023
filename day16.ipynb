{
 "cells": [
  {
   "cell_type": "code",
   "execution_count": 1,
   "metadata": {
    "collapsed": true,
    "ExecuteTime": {
     "end_time": "2023-12-16T11:08:02.285672400Z",
     "start_time": "2023-12-16T11:08:02.085653600Z"
    }
   },
   "outputs": [],
   "source": [
    "import kotlin.io.path.Path\n",
    "import kotlin.io.path.readLines\n",
    "\n",
    "val input = Path(\"day16.txt\").readLines()"
   ]
  },
  {
   "cell_type": "markdown",
   "source": [
    "# Part 1"
   ],
   "metadata": {
    "collapsed": false
   }
  },
  {
   "cell_type": "code",
   "execution_count": 2,
   "outputs": [],
   "source": [
    "fun countEnergizedTiles(input: List<String>, startPosition: Position = Position(0, 0, Direction.RIGHT)): Int {\n",
    "    val energizedPositions = mutableSetOf<Position>()\n",
    "    var positionsToCheck = setOf(startPosition)\n",
    "\n",
    "    while (positionsToCheck.isNotEmpty()) {\n",
    "        energizedPositions.addAll(positionsToCheck)\n",
    "        positionsToCheck = positionsToCheck.flatMap { it.move(input) }.toSet().minus(energizedPositions)\n",
    "    }\n",
    "\n",
    "    return energizedPositions.distinctBy { it.row to it.column }.size\n",
    "}\n",
    "\n",
    "data class Position(val row: Int, val column: Int, val direction: Direction)\n",
    "enum class Direction { UP, DOWN, LEFT, RIGHT }\n",
    "\n",
    "fun Position.move(input: List<String>): List<Position> {\n",
    "    val tile = input.getTileAt(this)\n",
    "    \n",
    "    val nextPositions = when {\n",
    "        (tile == '.' || tile == '-') && direction == Direction.RIGHT -> listOf(copy(column = column + 1))\n",
    "        (tile == '.' || tile == '-') && direction == Direction.LEFT -> listOf(copy(column = column - 1))\n",
    "        (tile == '.' || tile == '|') && direction == Direction.UP -> listOf(copy(row = row - 1))\n",
    "        (tile == '.' || tile == '|') && direction == Direction.DOWN -> listOf(copy(row = row + 1))\n",
    "        tile == '/' && direction == Direction.RIGHT -> listOf(copy(row = row - 1, direction = Direction.UP))\n",
    "        tile == '/' && direction == Direction.LEFT -> listOf(copy(row = row + 1, direction = Direction.DOWN))\n",
    "        tile == '/' && direction == Direction.UP -> listOf(copy(column = column + 1, direction = Direction.RIGHT))\n",
    "        tile == '/' && direction == Direction.DOWN -> listOf(copy(column = column - 1, direction = Direction.LEFT))\n",
    "        tile == '\\\\' && direction == Direction.RIGHT -> listOf(copy(row = row + 1, direction = Direction.DOWN))\n",
    "        tile == '\\\\' && direction == Direction.LEFT -> listOf(copy(row = row - 1, direction = Direction.UP))\n",
    "        tile == '\\\\' && direction == Direction.UP -> listOf(copy(column = column - 1, direction = Direction.LEFT))\n",
    "        tile == '\\\\' && direction == Direction.DOWN -> listOf(copy(column = column + 1, direction = Direction.RIGHT))\n",
    "        tile == '-' && (direction == Direction.UP || direction == Direction.DOWN) -> listOf(\n",
    "            copy(column = column - 1, direction = Direction.LEFT),\n",
    "            copy(column = column + 1, direction = Direction.RIGHT)\n",
    "        )\n",
    "\n",
    "        tile == '|' && (direction == Direction.LEFT || direction == Direction.RIGHT) ->\n",
    "            listOf(\n",
    "                copy(row = row - 1, direction = Direction.UP),\n",
    "                copy(row = row + 1, direction = Direction.DOWN),\n",
    "            )\n",
    "\n",
    "        else -> emptyList()\n",
    "    }\n",
    "    \n",
    "    return nextPositions.filter { input.getTileAt(it) != null }\n",
    "}\n",
    "\n",
    "fun List<String>.getTileAt(position: Position) = this.getOrNull(position.row)?.getOrNull(position.column)"
   ],
   "metadata": {
    "collapsed": false,
    "ExecuteTime": {
     "end_time": "2023-12-16T11:08:03.584771400Z",
     "start_time": "2023-12-16T11:08:02.287848100Z"
    }
   }
  },
  {
   "cell_type": "markdown",
   "source": [
    "## Example"
   ],
   "metadata": {
    "collapsed": false
   }
  },
  {
   "cell_type": "code",
   "execution_count": 3,
   "outputs": [
    {
     "data": {
      "text/plain": "46"
     },
     "execution_count": 3,
     "metadata": {},
     "output_type": "execute_result"
    }
   ],
   "source": [
    "val exampleInput = listOf(\n",
    "    \"\"\".|...\\....\"\"\",\n",
    "    \"\"\"|.-.\\.....\"\"\",\n",
    "    \"\"\".....|-...\"\"\",\n",
    "    \"\"\"........|.\"\"\",\n",
    "    \"\"\"..........\"\"\",\n",
    "    \"\"\".........\\\"\"\",\n",
    "    \"\"\"..../.\\\\..\"\"\",\n",
    "    \"\"\".-.-/..|..\"\"\",\n",
    "    \"\"\".|....-|.\\\"\"\",\n",
    "    \"\"\"..//.|....\"\"\",\n",
    ")\n",
    "countEnergizedTiles(exampleInput)"
   ],
   "metadata": {
    "collapsed": false,
    "ExecuteTime": {
     "end_time": "2023-12-16T11:08:03.687801900Z",
     "start_time": "2023-12-16T11:08:03.589052900Z"
    }
   }
  },
  {
   "cell_type": "markdown",
   "source": [
    "## Solution"
   ],
   "metadata": {
    "collapsed": false
   }
  },
  {
   "cell_type": "code",
   "execution_count": 4,
   "outputs": [
    {
     "data": {
      "text/plain": "7939"
     },
     "execution_count": 4,
     "metadata": {},
     "output_type": "execute_result"
    }
   ],
   "source": [
    "countEnergizedTiles(input)"
   ],
   "metadata": {
    "collapsed": false,
    "ExecuteTime": {
     "end_time": "2023-12-16T11:08:03.765311900Z",
     "start_time": "2023-12-16T11:08:03.688801900Z"
    }
   }
  },
  {
   "cell_type": "markdown",
   "source": [
    "# Part 2"
   ],
   "metadata": {
    "collapsed": false
   }
  },
  {
   "cell_type": "code",
   "execution_count": 5,
   "outputs": [],
   "source": [
    "fun getMaxEnergizedTiles(input: List<String>): Int {\n",
    "    val startingPositions = buildList<Position> {\n",
    "        for (row in input.indices) {\n",
    "            add(Position(row, 0, Direction.RIGHT))\n",
    "            add(Position(row, input[0].lastIndex, Direction.LEFT))\n",
    "        }\n",
    "        for (column in input[0].indices) {\n",
    "            add(Position(0, column, Direction.DOWN))\n",
    "            add(Position(input.lastIndex, column, Direction.UP))\n",
    "        }\n",
    "    }\n",
    "    return startingPositions.maxOf { countEnergizedTiles(input, it) }\n",
    "}"
   ],
   "metadata": {
    "collapsed": false,
    "ExecuteTime": {
     "end_time": "2023-12-16T11:08:04.096188700Z",
     "start_time": "2023-12-16T11:08:03.767312100Z"
    }
   }
  },
  {
   "cell_type": "markdown",
   "source": [
    "## Example"
   ],
   "metadata": {
    "collapsed": false
   }
  },
  {
   "cell_type": "code",
   "execution_count": 6,
   "outputs": [
    {
     "data": {
      "text/plain": "51"
     },
     "execution_count": 6,
     "metadata": {},
     "output_type": "execute_result"
    }
   ],
   "source": [
    "getMaxEnergizedTiles(exampleInput)"
   ],
   "metadata": {
    "collapsed": false,
    "ExecuteTime": {
     "end_time": "2023-12-16T11:08:04.171082200Z",
     "start_time": "2023-12-16T11:08:04.100189400Z"
    }
   }
  },
  {
   "cell_type": "markdown",
   "source": [
    "## Solution"
   ],
   "metadata": {
    "collapsed": false
   }
  },
  {
   "cell_type": "code",
   "execution_count": 7,
   "outputs": [
    {
     "data": {
      "text/plain": "8318"
     },
     "execution_count": 7,
     "metadata": {},
     "output_type": "execute_result"
    }
   ],
   "source": [
    "getMaxEnergizedTiles(input)"
   ],
   "metadata": {
    "collapsed": false,
    "ExecuteTime": {
     "end_time": "2023-12-16T11:08:05.465935700Z",
     "start_time": "2023-12-16T11:08:04.175083700Z"
    }
   }
  }
 ],
 "metadata": {
  "kernelspec": {
   "display_name": "Kotlin",
   "language": "kotlin",
   "name": "kotlin"
  },
  "language_info": {
   "name": "kotlin",
   "version": "1.9.0",
   "mimetype": "text/x-kotlin",
   "file_extension": ".kt",
   "pygments_lexer": "kotlin",
   "codemirror_mode": "text/x-kotlin",
   "nbconvert_exporter": ""
  }
 },
 "nbformat": 4,
 "nbformat_minor": 0
}
