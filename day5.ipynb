{
 "cells": [
  {
   "cell_type": "code",
   "execution_count": 1,
   "metadata": {
    "collapsed": true,
    "ExecuteTime": {
     "end_time": "2023-12-05T20:05:49.856375700Z",
     "start_time": "2023-12-05T20:05:48.350521700Z"
    }
   },
   "outputs": [],
   "source": [
    "import kotlin.io.path.Path\n",
    "import kotlin.io.path.readText\n",
    "\n",
    "val input = Path(\"day5.txt\").readText()\n",
    "\n",
    "val exampleInput = \"\"\"\n",
    "seeds: 79 14 55 13\n",
    "\n",
    "seed-to-soil map:\n",
    "50 98 2\n",
    "52 50 48\n",
    "\n",
    "soil-to-fertilizer map:\n",
    "0 15 37\n",
    "37 52 2\n",
    "39 0 15\n",
    "\n",
    "fertilizer-to-water map:\n",
    "49 53 8\n",
    "0 11 42\n",
    "42 0 7\n",
    "57 7 4\n",
    "\n",
    "water-to-light map:\n",
    "88 18 7\n",
    "18 25 70\n",
    "\n",
    "light-to-temperature map:\n",
    "45 77 23\n",
    "81 45 19\n",
    "68 64 13\n",
    "\n",
    "temperature-to-humidity map:\n",
    "0 69 1\n",
    "1 0 69\n",
    "\n",
    "humidity-to-location map:\n",
    "60 56 37\n",
    "56 93 4\n",
    "\"\"\"\n",
    "\n",
    "data class ConversionMap(val conversions: List<Conversion>)\n",
    "data class Conversion(val destinationRangeStart: Long, val sourceRangeStart: Long, val rangeLength: Int)\n",
    "\n",
    "val newlinePattern = \"(\\r)?\\n\"\n",
    "\n",
    "fun getBlocks(value: String): List<List<String>> {\n",
    "    return value.split(Regex(newlinePattern + newlinePattern))\n",
    "        .map { it.split(Regex(newlinePattern)).filter { it.isNotBlank() } }\n",
    "}\n",
    "\n",
    "fun parseSeeds(value: String): List<Long> {\n",
    "    val (firstBlock) = getBlocks(value)\n",
    "    return firstBlock[0].substringAfter(\"seeds: \").split(\" \").map { it.toLong() }\n",
    "}\n",
    "\n",
    "fun parseConversionMaps(value: String): List<ConversionMap> {\n",
    "    val blocks = getBlocks(value)\n",
    "    return blocks.drop(1).map {\n",
    "        it.drop(1)\n",
    "            .map {\n",
    "                val (destinationStart, sourceStart, rangeLength) = it.split(\" \").mapNotNull { it.trim().toLongOrNull() }\n",
    "                Conversion(destinationStart, sourceStart, rangeLength.toInt())\n",
    "            }\n",
    "            .let { ConversionMap(it) }\n",
    "    }\n",
    "}\n",
    "\n",
    "val exampleSeeds = parseSeeds(exampleInput)\n",
    "val exampleConversionMaps = parseConversionMaps(exampleInput)\n",
    "val seeds = parseSeeds(input)\n",
    "val conversionMaps = parseConversionMaps(input)"
   ]
  },
  {
   "cell_type": "markdown",
   "source": [
    "# Part 1"
   ],
   "metadata": {
    "collapsed": false
   }
  },
  {
   "cell_type": "code",
   "execution_count": 2,
   "outputs": [],
   "source": [
    "fun getResult(seeds: List<Long>, conversionMaps: List<ConversionMap>): Long {\n",
    "    return seeds.minOf { getSeedLocation(conversionMaps, it) }\n",
    "}\n",
    "\n",
    "fun getSeedLocation(conversionMaps: List<ConversionMap>, seed: Long): Long {\n",
    "    return conversionMaps.fold(seed) { current, map -> map.convert(current) }\n",
    "}\n",
    "\n",
    "fun ConversionMap.convert(value: Long): Long {\n",
    "    val conversion = conversions.find { it.sourceRange().contains(value) }\n",
    "    return when (conversion) {\n",
    "        null -> value\n",
    "        else -> conversion.convert(value)\n",
    "    }\n",
    "}\n",
    "\n",
    "fun Conversion.convert(value: Long) = destinationRangeStart + value - sourceRangeStart\n",
    "fun Conversion.sourceRange() = sourceRangeStart..sourceRangeStart + rangeLength - 1\n"
   ],
   "metadata": {
    "collapsed": false,
    "ExecuteTime": {
     "end_time": "2023-12-05T20:05:50.752068800Z",
     "start_time": "2023-12-05T20:05:49.859689Z"
    }
   }
  },
  {
   "cell_type": "markdown",
   "source": [
    "## Example"
   ],
   "metadata": {
    "collapsed": false
   }
  },
  {
   "cell_type": "code",
   "execution_count": 3,
   "outputs": [
    {
     "data": {
      "text/plain": "35"
     },
     "execution_count": 3,
     "metadata": {},
     "output_type": "execute_result"
    }
   ],
   "source": [
    "getResult(exampleSeeds, exampleConversionMaps)"
   ],
   "metadata": {
    "collapsed": false,
    "ExecuteTime": {
     "end_time": "2023-12-05T20:05:50.839735700Z",
     "start_time": "2023-12-05T20:05:50.756086500Z"
    }
   }
  },
  {
   "cell_type": "markdown",
   "source": [
    "## Solution"
   ],
   "metadata": {
    "collapsed": false
   }
  },
  {
   "cell_type": "code",
   "execution_count": 4,
   "outputs": [
    {
     "data": {
      "text/plain": "389056265"
     },
     "execution_count": 4,
     "metadata": {},
     "output_type": "execute_result"
    }
   ],
   "source": [
    "getResult(seeds, conversionMaps)"
   ],
   "metadata": {
    "collapsed": false,
    "ExecuteTime": {
     "end_time": "2023-12-05T20:05:50.952301100Z",
     "start_time": "2023-12-05T20:05:50.838735100Z"
    }
   }
  },
  {
   "cell_type": "markdown",
   "source": [
    "# Part 2"
   ],
   "metadata": {
    "collapsed": false
   }
  },
  {
   "cell_type": "code",
   "execution_count": 5,
   "outputs": [],
   "source": [
    "fun parseSeedRanges(value: String): List<LongRange> {\n",
    "    val (firstBlock) = getBlocks(value)\n",
    "    val seeds = firstBlock[0].substringAfter(\"seeds: \").split(\" \").map { it.toLong() }\n",
    "    return seeds.chunked(2).map { (start, length) -> start..start + length - 1 }\n",
    "}\n",
    "\n",
    "val exampleSeedRanges = parseSeedRanges(exampleInput)\n",
    "val seedRanges = parseSeedRanges(input)\n",
    "\n",
    "fun getResult(seedRanges: List<LongRange>, conversionMaps: List<ConversionMap>): Long {\n",
    "    val locationRange = 0..999999999999L\n",
    "    return locationRange.find { \n",
    "        val seed = getSeedForLocation(conversionMaps, it)\n",
    "        seedRanges.any { seed in it }\n",
    "    }!!\n",
    "}\n",
    "\n",
    "fun getSeedForLocation(conversionMaps: List<ConversionMap>, location: Long): Long {\n",
    "    return conversionMaps.reversed().fold(location) { current, map -> map.convertReverse(current) }\n",
    "}\n",
    "\n",
    "fun ConversionMap.convertReverse(value: Long): Long {\n",
    "    val conversion = conversions.find { it.destinationRange().contains(value) }\n",
    "    return when (conversion) {\n",
    "        null -> value\n",
    "        else -> conversion.convertReverse(value)\n",
    "    }\n",
    "}\n",
    "\n",
    "fun Conversion.destinationRange() = destinationRangeStart..destinationRangeStart + rangeLength - 1\n",
    "fun Conversion.convertReverse(value: Long) = sourceRangeStart + value - destinationRangeStart"
   ],
   "metadata": {
    "collapsed": false,
    "ExecuteTime": {
     "end_time": "2023-12-05T20:05:51.697204500Z",
     "start_time": "2023-12-05T20:05:50.928123200Z"
    }
   }
  },
  {
   "cell_type": "markdown",
   "source": [
    "## Example"
   ],
   "metadata": {
    "collapsed": false
   }
  },
  {
   "cell_type": "code",
   "execution_count": 6,
   "outputs": [
    {
     "data": {
      "text/plain": "46"
     },
     "execution_count": 6,
     "metadata": {},
     "output_type": "execute_result"
    }
   ],
   "source": [
    "getResult(exampleSeedRanges, exampleConversionMaps)"
   ],
   "metadata": {
    "collapsed": false,
    "ExecuteTime": {
     "end_time": "2023-12-05T20:05:51.840233200Z",
     "start_time": "2023-12-05T20:05:51.704218400Z"
    }
   }
  },
  {
   "cell_type": "markdown",
   "source": [],
   "metadata": {
    "collapsed": false
   }
  },
  {
   "cell_type": "code",
   "execution_count": 7,
   "outputs": [
    {
     "data": {
      "text/plain": "137516820"
     },
     "execution_count": 7,
     "metadata": {},
     "output_type": "execute_result"
    }
   ],
   "source": [
    "getResult(seedRanges, conversionMaps)"
   ],
   "metadata": {
    "collapsed": false,
    "ExecuteTime": {
     "end_time": "2023-12-05T20:06:15.226143800Z",
     "start_time": "2023-12-05T20:05:51.827204400Z"
    }
   }
  }
 ],
 "metadata": {
  "kernelspec": {
   "display_name": "Kotlin",
   "language": "kotlin",
   "name": "kotlin"
  },
  "language_info": {
   "name": "kotlin",
   "version": "1.9.0",
   "mimetype": "text/x-kotlin",
   "file_extension": ".kt",
   "pygments_lexer": "kotlin",
   "codemirror_mode": "text/x-kotlin",
   "nbconvert_exporter": ""
  }
 },
 "nbformat": 4,
 "nbformat_minor": 0
}
