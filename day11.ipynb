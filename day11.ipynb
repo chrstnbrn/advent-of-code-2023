{
 "cells": [
  {
   "cell_type": "code",
   "execution_count": 62,
   "metadata": {
    "collapsed": true,
    "ExecuteTime": {
     "end_time": "2023-12-11T07:25:45.268237900Z",
     "start_time": "2023-12-11T07:25:45.198230700Z"
    }
   },
   "outputs": [],
   "source": [
    "import kotlin.io.path.Path\n",
    "import kotlin.io.path.readLines\n",
    "\n",
    "val input = Path(\"day11.txt\").readLines()"
   ]
  },
  {
   "cell_type": "markdown",
   "source": [
    "# Part 1"
   ],
   "metadata": {
    "collapsed": false
   }
  },
  {
   "cell_type": "code",
   "execution_count": 63,
   "outputs": [],
   "source": [
    "fun getResult(image: List<String>, expansion: Int = 2): Long {\n",
    "    val expandedRowIndices = expandedRowIndices(image)\n",
    "    val expandedColumnIndices = expandedColumnIndices(image)\n",
    "    val galaxyIndices = findGalaxyIndices(image)\n",
    "    val galaxyPairs = galaxyIndices.flatMap { galaxy -> galaxyIndices.map { galaxy to it } }\n",
    "    return galaxyPairs.sumOf {\n",
    "        getDistance(\n",
    "            it.first,\n",
    "            it.second,\n",
    "            expandedRowIndices,\n",
    "            expandedColumnIndices,\n",
    "            expansion\n",
    "        )\n",
    "    } / 2\n",
    "}\n",
    "\n",
    "fun expandedRowIndices(image: List<String>): List<Int> {\n",
    "    return image.indices.filter { i -> image[i].all { it != '#' } }\n",
    "}\n",
    "\n",
    "fun expandedColumnIndices(image: List<String>): List<Int> {\n",
    "    return image[0].indices.filter { i -> image.map { it[i] }.all { it != '#' } }\n",
    "}\n",
    "\n",
    "fun findGalaxyIndices(image: List<String>): List<Pair<Int, Int>> {\n",
    "    val result = mutableListOf<Pair<Int, Int>>()\n",
    "\n",
    "    for (row in image.indices) {\n",
    "        for (column in image[0].indices) {\n",
    "            if (image[row][column] == '#') {\n",
    "                result.add(row to column)\n",
    "            }\n",
    "        }\n",
    "    }\n",
    "\n",
    "    return result\n",
    "}\n",
    "\n",
    "fun getDistance(\n",
    "    galaxy1: Pair<Int, Int>,\n",
    "    galaxy2: Pair<Int, Int>,\n",
    "    expandedRowIndices: List<Int>,\n",
    "    expandedColumnIndices: List<Int>,\n",
    "    expansion: Int\n",
    "): Long {\n",
    "    val expandedRows = expandedRowIndices.count {\n",
    "        it in (galaxy1.first..galaxy2.first) || it in (galaxy2.first..galaxy1.first)\n",
    "    }\n",
    "    val expandedColumns = expandedColumnIndices.count {\n",
    "        it in (galaxy1.second..galaxy2.second) || it in (galaxy2.second..galaxy1.second)\n",
    "    }\n",
    "    val result =\n",
    "        Math.abs(galaxy1.first - galaxy2.first) + expandedRows * (expansion - 1) +\n",
    "                Math.abs(galaxy1.second - galaxy2.second) + expandedColumns * (expansion - 1)\n",
    "    return result.toLong()\n",
    "}"
   ],
   "metadata": {
    "collapsed": false,
    "ExecuteTime": {
     "end_time": "2023-12-11T07:25:45.806436800Z",
     "start_time": "2023-12-11T07:25:45.242236100Z"
    }
   }
  },
  {
   "cell_type": "markdown",
   "source": [
    "## Example"
   ],
   "metadata": {
    "collapsed": false
   }
  },
  {
   "cell_type": "code",
   "execution_count": 64,
   "outputs": [
    {
     "data": {
      "text/plain": "374"
     },
     "execution_count": 64,
     "metadata": {},
     "output_type": "execute_result"
    }
   ],
   "source": [
    "val example = listOf(\n",
    "    \"...#......\",\n",
    "    \".......#..\",\n",
    "    \"#.........\",\n",
    "    \"..........\",\n",
    "    \"......#...\",\n",
    "    \".#........\",\n",
    "    \".........#\",\n",
    "    \"..........\",\n",
    "    \".......#..\",\n",
    "    \"#...#.....\",\n",
    ")\n",
    "\n",
    "getResult(example)"
   ],
   "metadata": {
    "collapsed": false,
    "ExecuteTime": {
     "end_time": "2023-12-11T07:25:45.841440800Z",
     "start_time": "2023-12-11T07:25:45.759710700Z"
    }
   }
  },
  {
   "cell_type": "markdown",
   "source": [
    "## Solution"
   ],
   "metadata": {
    "collapsed": false
   }
  },
  {
   "cell_type": "code",
   "execution_count": 65,
   "outputs": [
    {
     "data": {
      "text/plain": "9312968"
     },
     "execution_count": 65,
     "metadata": {},
     "output_type": "execute_result"
    }
   ],
   "source": [
    "getResult(input)"
   ],
   "metadata": {
    "collapsed": false,
    "ExecuteTime": {
     "end_time": "2023-12-11T07:25:46.068496200Z",
     "start_time": "2023-12-11T07:25:45.819438200Z"
    }
   }
  },
  {
   "cell_type": "markdown",
   "source": [
    "# Part 2"
   ],
   "metadata": {
    "collapsed": false
   }
  },
  {
   "cell_type": "markdown",
   "source": [
    "## Example\n"
   ],
   "metadata": {
    "collapsed": false
   }
  },
  {
   "cell_type": "code",
   "execution_count": 66,
   "outputs": [
    {
     "data": {
      "text/plain": "8410"
     },
     "execution_count": 66,
     "metadata": {},
     "output_type": "execute_result"
    }
   ],
   "source": [
    "getResult(example, 100)"
   ],
   "metadata": {
    "collapsed": false,
    "ExecuteTime": {
     "end_time": "2023-12-11T07:25:46.181523600Z",
     "start_time": "2023-12-11T07:25:46.029489900Z"
    }
   }
  },
  {
   "cell_type": "markdown",
   "source": [
    "## Solution"
   ],
   "metadata": {
    "collapsed": false
   }
  },
  {
   "cell_type": "code",
   "execution_count": 67,
   "outputs": [
    {
     "data": {
      "text/plain": "597714117556"
     },
     "execution_count": 67,
     "metadata": {},
     "output_type": "execute_result"
    }
   ],
   "source": [
    "getResult(input, 1000000)"
   ],
   "metadata": {
    "collapsed": false,
    "ExecuteTime": {
     "end_time": "2023-12-11T07:25:46.333867800Z",
     "start_time": "2023-12-11T07:25:46.132008200Z"
    }
   }
  }
 ],
 "metadata": {
  "kernelspec": {
   "display_name": "Kotlin",
   "language": "kotlin",
   "name": "kotlin"
  },
  "language_info": {
   "name": "kotlin",
   "version": "1.9.0",
   "mimetype": "text/x-kotlin",
   "file_extension": ".kt",
   "pygments_lexer": "kotlin",
   "codemirror_mode": "text/x-kotlin",
   "nbconvert_exporter": ""
  }
 },
 "nbformat": 4,
 "nbformat_minor": 0
}
