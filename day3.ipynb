{
 "cells": [
  {
   "cell_type": "code",
   "execution_count": 1,
   "metadata": {
    "collapsed": true,
    "ExecuteTime": {
     "end_time": "2023-12-03T15:24:08.785663100Z",
     "start_time": "2023-12-03T15:24:08.533394100Z"
    }
   },
   "outputs": [],
   "source": [
    "import kotlin.io.path.Path\n",
    "import kotlin.io.path.readLines\n",
    "\n",
    "val input = Path(\"day3.txt\").readLines()\n",
    "\n",
    "val exampleInput = listOf(\n",
    "    \"467..114..\",\n",
    "    \"...*......\",\n",
    "    \"..35..633.\",\n",
    "    \"......#...\",\n",
    "    \"617*......\",\n",
    "    \".....+.58.\",\n",
    "    \"..592.....\",\n",
    "    \"......755.\",\n",
    "    \"...$.*....\",\n",
    "    \".664.598..\",\n",
    "    \".664.598..\",\n",
    ")\n",
    "\n",
    "typealias EngineSchematic = List<String>"
   ]
  },
  {
   "cell_type": "markdown",
   "source": [
    "# Part 1"
   ],
   "metadata": {
    "collapsed": false
   }
  },
  {
   "cell_type": "code",
   "execution_count": 2,
   "outputs": [],
   "source": [
    "data class NumberPosition(val row: Int, val columnRange: IntRange)\n",
    "\n",
    "fun EngineSchematic.getNumber(position: NumberPosition) =\n",
    "    this[position.row].substring(position.columnRange).toInt()\n",
    "\n",
    "fun isAdjacentToSymbol(position: NumberPosition, schematic: EngineSchematic): Boolean {\n",
    "    for (row in position.row - 1..position.row + 1) {\n",
    "        for (col in position.columnRange.start - 1..position.columnRange.endInclusive + 1) {\n",
    "            val character = schematic.getOrNull(row)?.getOrNull(col)\n",
    "            val isSymbol = character != null && !character.isDigit() && character != '.'\n",
    "            if (isSymbol) {\n",
    "                return true\n",
    "            }\n",
    "        }\n",
    "\n",
    "    }\n",
    "    return false\n",
    "}\n",
    "\n",
    "fun getNumberPositions(schematic: EngineSchematic): List<NumberPosition> {\n",
    "    val numberPattern = Regex(\"\"\"\\d+\"\"\")\n",
    "    return schematic.flatMapIndexed { i, row ->\n",
    "        numberPattern.findAll(row).map { NumberPosition(i, it.range) }\n",
    "    }\n",
    "}\n",
    "\n",
    "fun getPartNumbers(schematic: EngineSchematic): List<Int> {\n",
    "    return getNumberPositions(schematic)\n",
    "        .filter { isAdjacentToSymbol(it, schematic) }\n",
    "        .map { schematic.getNumber(it) }\n",
    "}"
   ],
   "metadata": {
    "collapsed": false,
    "ExecuteTime": {
     "end_time": "2023-12-03T15:24:09.976904400Z",
     "start_time": "2023-12-03T15:24:08.789367Z"
    }
   }
  },
  {
   "cell_type": "markdown",
   "source": [
    "## Example"
   ],
   "metadata": {
    "collapsed": false
   }
  },
  {
   "cell_type": "code",
   "execution_count": 3,
   "outputs": [
    {
     "data": {
      "text/plain": "4361"
     },
     "execution_count": 3,
     "metadata": {},
     "output_type": "execute_result"
    }
   ],
   "source": [
    "getPartNumbers(exampleInput).sum()"
   ],
   "metadata": {
    "collapsed": false,
    "ExecuteTime": {
     "end_time": "2023-12-03T15:24:10.040906200Z",
     "start_time": "2023-12-03T15:24:09.933523300Z"
    }
   }
  },
  {
   "cell_type": "markdown",
   "source": [
    "## Solution"
   ],
   "metadata": {
    "collapsed": false
   }
  },
  {
   "cell_type": "code",
   "execution_count": 4,
   "outputs": [
    {
     "data": {
      "text/plain": "520135"
     },
     "execution_count": 4,
     "metadata": {},
     "output_type": "execute_result"
    }
   ],
   "source": [
    "getPartNumbers(input).sum()"
   ],
   "metadata": {
    "collapsed": false,
    "ExecuteTime": {
     "end_time": "2023-12-03T15:24:10.291631800Z",
     "start_time": "2023-12-03T15:24:10.039903700Z"
    }
   }
  },
  {
   "cell_type": "markdown",
   "source": [
    "# Part 2"
   ],
   "metadata": {
    "collapsed": false
   }
  },
  {
   "cell_type": "code",
   "execution_count": 5,
   "outputs": [],
   "source": [
    "fun getResult(schematic: EngineSchematic): Int {\n",
    "    val numberPositions = getNumberPositions(schematic)\n",
    "    val starPositions = schematic.flatMapIndexed { rowIndex, row ->\n",
    "        row.mapIndexedNotNull { colIndex, c -> if (c == '*') rowIndex to colIndex else null }\n",
    "    }\n",
    "    val gearRatios = starPositions.mapNotNull { (i, j) ->\n",
    "        val adjacentNumberPositions = numberPositions.filter { it.isAdjacentTo(i, j) }\n",
    "        if (adjacentNumberPositions.size == 2) {\n",
    "            val (number1, number2) = adjacentNumberPositions.map { schematic.getNumber(it) }\n",
    "            number1 * number2\n",
    "        } else {\n",
    "            null\n",
    "        }\n",
    "    }\n",
    "    return gearRatios.sum()\n",
    "}\n",
    "\n",
    "fun NumberPosition.isAdjacentTo(i: Int, j: Int) =\n",
    "    row in i - 1..i + 1 && columnRange.any { it in j - 1..j + 1 }"
   ],
   "metadata": {
    "collapsed": false,
    "ExecuteTime": {
     "end_time": "2023-12-03T15:24:10.715728600Z",
     "start_time": "2023-12-03T15:24:10.145436500Z"
    }
   }
  },
  {
   "cell_type": "markdown",
   "source": [
    "## Example"
   ],
   "metadata": {
    "collapsed": false
   }
  },
  {
   "cell_type": "code",
   "execution_count": 6,
   "outputs": [
    {
     "data": {
      "text/plain": "467835"
     },
     "execution_count": 6,
     "metadata": {},
     "output_type": "execute_result"
    }
   ],
   "source": [
    "getResult(exampleInput)"
   ],
   "metadata": {
    "collapsed": false,
    "ExecuteTime": {
     "end_time": "2023-12-03T15:24:10.913058100Z",
     "start_time": "2023-12-03T15:24:10.708747300Z"
    }
   }
  },
  {
   "cell_type": "markdown",
   "source": [
    "## Solution"
   ],
   "metadata": {
    "collapsed": false
   }
  },
  {
   "cell_type": "code",
   "execution_count": 7,
   "outputs": [
    {
     "data": {
      "text/plain": "72514855"
     },
     "execution_count": 7,
     "metadata": {},
     "output_type": "execute_result"
    }
   ],
   "source": [
    "getResult(input)"
   ],
   "metadata": {
    "collapsed": false,
    "ExecuteTime": {
     "end_time": "2023-12-03T15:24:11.052906400Z",
     "start_time": "2023-12-03T15:24:10.800535400Z"
    }
   }
  }
 ],
 "metadata": {
  "kernelspec": {
   "display_name": "Kotlin",
   "language": "kotlin",
   "name": "kotlin"
  },
  "language_info": {
   "name": "kotlin",
   "version": "1.9.0",
   "mimetype": "text/x-kotlin",
   "file_extension": ".kt",
   "pygments_lexer": "kotlin",
   "codemirror_mode": "text/x-kotlin",
   "nbconvert_exporter": ""
  }
 },
 "nbformat": 4,
 "nbformat_minor": 0
}
