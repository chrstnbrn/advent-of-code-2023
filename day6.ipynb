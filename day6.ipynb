{
 "cells": [
  {
   "cell_type": "code",
   "execution_count": 1,
   "metadata": {
    "collapsed": true,
    "ExecuteTime": {
     "end_time": "2023-12-06T06:33:22.609344400Z",
     "start_time": "2023-12-06T06:33:21.370381100Z"
    }
   },
   "outputs": [],
   "source": [
    "import kotlin.io.path.Path\n",
    "import kotlin.io.path.readLines\n",
    "\n",
    "val input = Path(\"day6.txt\").readLines()\n",
    "\n",
    "val exampleInput = listOf(\n",
    "    \"Time:      7  15   30\",\n",
    "    \"Distance:  9  40  200\",\n",
    ")\n",
    "\n",
    "data class Race(val time: Long, val distance: Long)\n",
    "\n",
    "fun parseNumbers(value: String): List<Long> {\n",
    "    return value.substringAfter(\":\").split(\" \").filter { it.isNotBlank() }.map { it.toLong() }\n",
    "}\n",
    "\n",
    "fun parseRaces(values: List<String>): List<Race> {\n",
    "    val timeValues = parseNumbers(values[0])\n",
    "    val distanceValues = parseNumbers(values[1])\n",
    "    return timeValues.zip(distanceValues).map { (time, distance) -> Race(time, distance) }\n",
    "}\n",
    "\n",
    "val exampleRaces = parseRaces(exampleInput)\n",
    "val races = parseRaces(input)"
   ]
  },
  {
   "cell_type": "markdown",
   "source": [
    "# Part 1"
   ],
   "metadata": {
    "collapsed": false
   }
  },
  {
   "cell_type": "code",
   "execution_count": 2,
   "outputs": [],
   "source": [
    "fun getWinningWays(race: Race): Int {\n",
    "    val timeRange = 0..race.time\n",
    "    return timeRange.count {\n",
    "        val remainingTime = race.time - it\n",
    "        val distance = remainingTime * it\n",
    "        distance > race.distance\n",
    "    }\n",
    "}\n",
    "\n",
    "fun getResult(races: List<Race>): Int {\n",
    "    return races.map { getWinningWays(it) }.reduce { acc, x -> acc * x }\n",
    "}"
   ],
   "metadata": {
    "collapsed": false,
    "ExecuteTime": {
     "end_time": "2023-12-06T06:33:23.041668800Z",
     "start_time": "2023-12-06T06:33:22.612384100Z"
    }
   }
  },
  {
   "cell_type": "markdown",
   "source": [
    "## Example"
   ],
   "metadata": {
    "collapsed": false
   }
  },
  {
   "cell_type": "code",
   "execution_count": 3,
   "outputs": [
    {
     "data": {
      "text/plain": "288"
     },
     "execution_count": 3,
     "metadata": {},
     "output_type": "execute_result"
    }
   ],
   "source": [
    "getResult(exampleRaces)"
   ],
   "metadata": {
    "collapsed": false,
    "ExecuteTime": {
     "end_time": "2023-12-06T06:33:23.267886700Z",
     "start_time": "2023-12-06T06:33:23.045669900Z"
    }
   }
  },
  {
   "cell_type": "markdown",
   "source": [
    "## Solution"
   ],
   "metadata": {
    "collapsed": false
   }
  },
  {
   "cell_type": "code",
   "execution_count": 4,
   "outputs": [
    {
     "data": {
      "text/plain": "2269432"
     },
     "execution_count": 4,
     "metadata": {},
     "output_type": "execute_result"
    }
   ],
   "source": [
    "getResult(races)"
   ],
   "metadata": {
    "collapsed": false,
    "ExecuteTime": {
     "end_time": "2023-12-06T06:33:23.387417800Z",
     "start_time": "2023-12-06T06:33:23.207133800Z"
    }
   }
  },
  {
   "cell_type": "markdown",
   "source": [
    "# Part 2"
   ],
   "metadata": {
    "collapsed": false
   }
  },
  {
   "cell_type": "code",
   "execution_count": 5,
   "outputs": [],
   "source": [
    "fun parseRace2(values: List<String>): Race {\n",
    "    val time = values[0].substringAfter(\":\").filter { it != ' ' }.toLong()\n",
    "    val distance = values[1].substringAfter(\":\").filter { it != ' ' }.toLong()\n",
    "    return Race(time, distance)    \n",
    "}"
   ],
   "metadata": {
    "collapsed": false,
    "ExecuteTime": {
     "end_time": "2023-12-06T06:33:23.605773100Z",
     "start_time": "2023-12-06T06:33:23.318408200Z"
    }
   }
  },
  {
   "cell_type": "markdown",
   "source": [
    "## Example"
   ],
   "metadata": {
    "collapsed": false
   }
  },
  {
   "cell_type": "code",
   "execution_count": 6,
   "outputs": [
    {
     "data": {
      "text/plain": "71503"
     },
     "execution_count": 6,
     "metadata": {},
     "output_type": "execute_result"
    }
   ],
   "source": [
    "val exampleRace = parseRace2(exampleInput)\n",
    "getWinningWays(exampleRace)"
   ],
   "metadata": {
    "collapsed": false,
    "ExecuteTime": {
     "end_time": "2023-12-06T06:33:23.801824700Z",
     "start_time": "2023-12-06T06:33:23.547403Z"
    }
   }
  },
  {
   "cell_type": "markdown",
   "source": [
    "## Solution"
   ],
   "metadata": {
    "collapsed": false
   }
  },
  {
   "cell_type": "code",
   "execution_count": 7,
   "outputs": [
    {
     "data": {
      "text/plain": "35865985"
     },
     "execution_count": 7,
     "metadata": {},
     "output_type": "execute_result"
    }
   ],
   "source": [
    "val race = parseRace2(input)\n",
    "getWinningWays(race)"
   ],
   "metadata": {
    "collapsed": false,
    "ExecuteTime": {
     "end_time": "2023-12-06T06:33:23.934870500Z",
     "start_time": "2023-12-06T06:33:23.694287200Z"
    }
   }
  }
 ],
 "metadata": {
  "kernelspec": {
   "display_name": "Kotlin",
   "language": "kotlin",
   "name": "kotlin"
  },
  "language_info": {
   "name": "kotlin",
   "version": "1.9.0",
   "mimetype": "text/x-kotlin",
   "file_extension": ".kt",
   "pygments_lexer": "kotlin",
   "codemirror_mode": "text/x-kotlin",
   "nbconvert_exporter": ""
  }
 },
 "nbformat": 4,
 "nbformat_minor": 0
}
