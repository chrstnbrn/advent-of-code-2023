{
 "cells": [
  {
   "cell_type": "code",
   "execution_count": 1,
   "metadata": {
    "collapsed": true,
    "ExecuteTime": {
     "end_time": "2023-12-09T07:05:39.836625200Z",
     "start_time": "2023-12-09T07:05:39.600993700Z"
    }
   },
   "outputs": [],
   "source": [
    "import kotlin.io.path.Path\n",
    "import kotlin.io.path.readLines\n",
    "\n",
    "val input = Path(\"day9.txt\").readLines()"
   ]
  },
  {
   "cell_type": "markdown",
   "source": [
    "# Part 1\n"
   ],
   "metadata": {
    "collapsed": false
   }
  },
  {
   "cell_type": "code",
   "execution_count": 2,
   "outputs": [],
   "source": [
    "typealias HistoryRow = List<Int>\n",
    "\n",
    "fun parseHistoryRows(values: List<String>): List<HistoryRow> {\n",
    "    return values.map {\n",
    "        it.split(\" \").map { it.trim().toInt() }\n",
    "    }\n",
    "}\n",
    "\n",
    "fun extrapolate(historyRow: HistoryRow): Int {\n",
    "    if (historyRow.all { it == 0 }) {\n",
    "        return 0\n",
    "    }\n",
    "    \n",
    "    val diffs = historyRow.windowed(2).map { (a, b) -> b - a }\n",
    "    return historyRow.last() + extrapolate(diffs)\n",
    "}"
   ],
   "metadata": {
    "collapsed": false,
    "ExecuteTime": {
     "end_time": "2023-12-09T07:05:40.734347300Z",
     "start_time": "2023-12-09T07:05:39.846338700Z"
    }
   }
  },
  {
   "cell_type": "markdown",
   "source": [
    "## Example"
   ],
   "metadata": {
    "collapsed": false
   }
  },
  {
   "cell_type": "code",
   "execution_count": 3,
   "outputs": [
    {
     "data": {
      "text/plain": "114"
     },
     "execution_count": 3,
     "metadata": {},
     "output_type": "execute_result"
    }
   ],
   "source": [
    "val exampleInput = listOf(\n",
    "    \"0 3 6 9 12 15\",\n",
    "    \"1 3 6 10 15 21\",\n",
    "    \"10 13 16 21 30 45\",\n",
    ")\n",
    "val exampleRows = parseHistoryRows(exampleInput)\n",
    "exampleRows.sumOf { extrapolate(it) }"
   ],
   "metadata": {
    "collapsed": false,
    "ExecuteTime": {
     "end_time": "2023-12-09T07:05:41.263632200Z",
     "start_time": "2023-12-09T07:05:40.759947300Z"
    }
   }
  },
  {
   "cell_type": "code",
   "execution_count": 4,
   "outputs": [
    {
     "data": {
      "text/plain": "1772145754"
     },
     "execution_count": 4,
     "metadata": {},
     "output_type": "execute_result"
    }
   ],
   "source": [
    "val rows = parseHistoryRows(input)\n",
    "rows.sumOf { extrapolate(it) }"
   ],
   "metadata": {
    "collapsed": false,
    "ExecuteTime": {
     "end_time": "2023-12-09T07:05:41.633578200Z",
     "start_time": "2023-12-09T07:05:41.266760100Z"
    }
   }
  },
  {
   "cell_type": "markdown",
   "source": [
    "# Part 2"
   ],
   "metadata": {
    "collapsed": false
   }
  },
  {
   "cell_type": "code",
   "execution_count": 5,
   "outputs": [],
   "source": [
    "fun extrapolateBackwards(historyRow: HistoryRow): Int {\n",
    "    if (historyRow.all { it == 0 }) {\n",
    "        return 0\n",
    "    }\n",
    "    \n",
    "    val diffs = historyRow.windowed(2).map { (a, b) -> b - a }\n",
    "    return historyRow.first() - extrapolateBackwards(diffs)\n",
    "}"
   ],
   "metadata": {
    "collapsed": false,
    "ExecuteTime": {
     "end_time": "2023-12-09T07:05:42.059872400Z",
     "start_time": "2023-12-09T07:05:41.605578100Z"
    }
   }
  },
  {
   "cell_type": "markdown",
   "source": [
    "## Example"
   ],
   "metadata": {
    "collapsed": false
   }
  },
  {
   "cell_type": "code",
   "execution_count": 6,
   "outputs": [
    {
     "data": {
      "text/plain": "2"
     },
     "execution_count": 6,
     "metadata": {},
     "output_type": "execute_result"
    }
   ],
   "source": [
    "exampleRows.sumOf { extrapolateBackwards(it) }"
   ],
   "metadata": {
    "collapsed": false,
    "ExecuteTime": {
     "end_time": "2023-12-09T07:05:42.296571400Z",
     "start_time": "2023-12-09T07:05:42.002829700Z"
    }
   }
  },
  {
   "cell_type": "markdown",
   "source": [
    "## Solution"
   ],
   "metadata": {
    "collapsed": false
   }
  },
  {
   "cell_type": "code",
   "execution_count": 7,
   "outputs": [
    {
     "data": {
      "text/plain": "867"
     },
     "execution_count": 7,
     "metadata": {},
     "output_type": "execute_result"
    }
   ],
   "source": [
    "rows.sumOf { extrapolateBackwards(it) }"
   ],
   "metadata": {
    "collapsed": false,
    "ExecuteTime": {
     "end_time": "2023-12-09T07:05:42.537809400Z",
     "start_time": "2023-12-09T07:05:42.253458700Z"
    }
   }
  }
 ],
 "metadata": {
  "kernelspec": {
   "display_name": "Kotlin",
   "language": "kotlin",
   "name": "kotlin"
  },
  "language_info": {
   "name": "kotlin",
   "version": "1.9.0",
   "mimetype": "text/x-kotlin",
   "file_extension": ".kt",
   "pygments_lexer": "kotlin",
   "codemirror_mode": "text/x-kotlin",
   "nbconvert_exporter": ""
  }
 },
 "nbformat": 4,
 "nbformat_minor": 0
}
