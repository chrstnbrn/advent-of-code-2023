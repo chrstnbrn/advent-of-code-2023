{
 "cells": [
  {
   "cell_type": "code",
   "execution_count": 1,
   "metadata": {
    "collapsed": true,
    "ExecuteTime": {
     "end_time": "2023-12-16T11:59:44.139843100Z",
     "start_time": "2023-12-16T11:59:43.896510700Z"
    }
   },
   "outputs": [],
   "source": [
    "import kotlin.io.path.Path\n",
    "import kotlin.io.path.readText\n",
    "\n",
    "val input = Path(\"day15.txt\").readText().split(\",\")"
   ]
  },
  {
   "cell_type": "markdown",
   "source": [
    "# Part 1"
   ],
   "metadata": {
    "collapsed": false
   }
  },
  {
   "cell_type": "code",
   "execution_count": 2,
   "outputs": [],
   "source": [
    "fun calculateHash(value: String): Int {\n",
    "    return value.fold(0) { result, ch -> (result + ch.code) * 17 % 256 }\n",
    "}"
   ],
   "metadata": {
    "collapsed": false,
    "ExecuteTime": {
     "end_time": "2023-12-16T11:59:44.754445500Z",
     "start_time": "2023-12-16T11:59:44.140953200Z"
    }
   }
  },
  {
   "cell_type": "markdown",
   "source": [
    "## Example"
   ],
   "metadata": {
    "collapsed": false
   }
  },
  {
   "cell_type": "code",
   "execution_count": 3,
   "outputs": [
    {
     "data": {
      "text/plain": "1320"
     },
     "execution_count": 3,
     "metadata": {},
     "output_type": "execute_result"
    }
   ],
   "source": [
    "val example = \"rn=1,cm-,qp=3,cm=2,qp-,pc=4,ot=9,ab=5,pc-,pc=6,ot=7\".split(\",\")\n",
    "example.sumOf { calculateHash(it) }"
   ],
   "metadata": {
    "collapsed": false,
    "ExecuteTime": {
     "end_time": "2023-12-16T11:59:44.767403400Z",
     "start_time": "2023-12-16T11:59:44.509094900Z"
    }
   }
  },
  {
   "cell_type": "markdown",
   "source": [
    "## Solution\n"
   ],
   "metadata": {
    "collapsed": false
   }
  },
  {
   "cell_type": "code",
   "execution_count": 4,
   "outputs": [
    {
     "data": {
      "text/plain": "516657"
     },
     "execution_count": 4,
     "metadata": {},
     "output_type": "execute_result"
    }
   ],
   "source": [
    "input.sumOf { calculateHash(it) }"
   ],
   "metadata": {
    "collapsed": false,
    "ExecuteTime": {
     "end_time": "2023-12-16T11:59:45.240541800Z",
     "start_time": "2023-12-16T11:59:44.734210400Z"
    }
   }
  },
  {
   "cell_type": "markdown",
   "source": [
    "# Part 2"
   ],
   "metadata": {
    "collapsed": false
   }
  },
  {
   "cell_type": "code",
   "execution_count": 5,
   "outputs": [],
   "source": [
    "fun getFocusingPower(instructions: List<String>): Int {\n",
    "    val boxes = (0..256).map { mutableMapOf<String, Int>() }\n",
    "\n",
    "    for (instruction in instructions) {\n",
    "        val label = instruction.takeWhile { it.isLetter() }\n",
    "        val operation = instruction[label.length]\n",
    "        val focalLength = instruction.drop(label.length + 1).toIntOrNull()\n",
    "        val boxNumber = calculateHash(label)\n",
    "        val box = boxes[boxNumber]\n",
    "        when (operation) {\n",
    "            '-' -> box.remove(label)\n",
    "            '=' -> box.put(label, focalLength!!)\n",
    "        }\n",
    "    }\n",
    "\n",
    "    return boxes\n",
    "        .flatMapIndexed { boxNumber, box ->\n",
    "            box.values.mapIndexed { i, focalLength -> (1 + boxNumber) * (i + 1) * focalLength }\n",
    "        }\n",
    "        .sum()\n",
    "}"
   ],
   "metadata": {
    "collapsed": false,
    "ExecuteTime": {
     "end_time": "2023-12-16T11:59:45.546655700Z",
     "start_time": "2023-12-16T11:59:44.968015500Z"
    }
   }
  },
  {
   "cell_type": "markdown",
   "source": [
    "## Example"
   ],
   "metadata": {
    "collapsed": false
   }
  },
  {
   "cell_type": "code",
   "execution_count": 6,
   "outputs": [
    {
     "data": {
      "text/plain": "145"
     },
     "execution_count": 6,
     "metadata": {},
     "output_type": "execute_result"
    }
   ],
   "source": [
    "getFocusingPower(example)"
   ],
   "metadata": {
    "collapsed": false,
    "ExecuteTime": {
     "end_time": "2023-12-16T11:59:45.624520800Z",
     "start_time": "2023-12-16T11:59:45.476040200Z"
    }
   }
  },
  {
   "cell_type": "markdown",
   "source": [
    "## Solution"
   ],
   "metadata": {
    "collapsed": false
   }
  },
  {
   "cell_type": "code",
   "execution_count": 7,
   "outputs": [
    {
     "data": {
      "text/plain": "210906"
     },
     "execution_count": 7,
     "metadata": {},
     "output_type": "execute_result"
    }
   ],
   "source": [
    "getFocusingPower(input)"
   ],
   "metadata": {
    "collapsed": false,
    "ExecuteTime": {
     "end_time": "2023-12-16T11:59:45.651451100Z",
     "start_time": "2023-12-16T11:59:45.552656600Z"
    }
   }
  }
 ],
 "metadata": {
  "kernelspec": {
   "display_name": "Kotlin",
   "language": "kotlin",
   "name": "kotlin"
  },
  "language_info": {
   "name": "kotlin",
   "version": "1.9.0",
   "mimetype": "text/x-kotlin",
   "file_extension": ".kt",
   "pygments_lexer": "kotlin",
   "codemirror_mode": "text/x-kotlin",
   "nbconvert_exporter": ""
  }
 },
 "nbformat": 4,
 "nbformat_minor": 0
}
