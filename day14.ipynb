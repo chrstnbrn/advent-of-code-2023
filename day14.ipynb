{
 "cells": [
  {
   "cell_type": "code",
   "execution_count": 1,
   "metadata": {
    "collapsed": true,
    "ExecuteTime": {
     "end_time": "2023-12-17T11:52:58.258422100Z",
     "start_time": "2023-12-17T11:52:58.061843300Z"
    }
   },
   "outputs": [],
   "source": [
    "import kotlin.io.path.Path\n",
    "import kotlin.io.path.readLines\n",
    "import kotlin.io.path.readText\n",
    "\n",
    "val input = Path(\"day14.txt\").readLines()"
   ]
  },
  {
   "cell_type": "markdown",
   "source": [
    "# Part 1"
   ],
   "metadata": {
    "collapsed": false
   }
  },
  {
   "cell_type": "code",
   "execution_count": 2,
   "outputs": [],
   "source": [
    "typealias Map = List<String>\n",
    "\n",
    "fun Map.columns() = first().indices.map { c ->\n",
    "    map { row -> row[c] }.joinToString(\"\")\n",
    "}\n",
    "\n",
    "fun Map.calculateNorthLoad(): Int {\n",
    "    return columns()\n",
    "        .flatMap { column ->\n",
    "            column\n",
    "                .mapIndexed { i, ch -> i to ch }\n",
    "                .filter { it.second == 'O' }\n",
    "                .map { (i, _) -> size - i }\n",
    "        }\n",
    "        .sum()\n",
    "}\n",
    "\n",
    "fun rollToStart(value: String) =\n",
    "    value\n",
    "        .split('#')\n",
    "        .map { it.filter { it != '.' }.padEnd(it.length, '.') }\n",
    "        .joinToString(\"#\")\n",
    "\n",
    "fun rollToEnd(value: String) =\n",
    "    value\n",
    "        .split('#')\n",
    "        .map { it.filter { it != '.' }.padStart(it.length, '.') }\n",
    "        .joinToString(\"#\")\n",
    "\n",
    "fun List<String>.columnsToMap() = columns()\n",
    "\n",
    "fun Map.tiltNorth() = columns().map { rollToStart(it) }.columnsToMap()\n",
    "fun Map.tiltSouth() = columns().map { rollToEnd(it) }.columnsToMap()\n",
    "fun Map.tiltWest() = map { rollToStart(it) }\n",
    "fun Map.tiltEast() = map { rollToEnd(it) }\n",
    "\n",
    "fun getTotalLoad(input: Map): Int {\n",
    "    return input.tiltNorth().calculateNorthLoad()\n",
    "}"
   ],
   "metadata": {
    "collapsed": false,
    "ExecuteTime": {
     "end_time": "2023-12-17T11:52:59.425742200Z",
     "start_time": "2023-12-17T11:52:58.261702400Z"
    }
   }
  },
  {
   "cell_type": "markdown",
   "source": [
    "## Example"
   ],
   "metadata": {
    "collapsed": false
   }
  },
  {
   "cell_type": "code",
   "execution_count": 3,
   "outputs": [
    {
     "data": {
      "text/plain": "136"
     },
     "execution_count": 3,
     "metadata": {},
     "output_type": "execute_result"
    }
   ],
   "source": [
    "val example = listOf(\n",
    "    \"O....#....\",\n",
    "    \"O.OO#....#\",\n",
    "    \".....##...\",\n",
    "    \"OO.#O....O\",\n",
    "    \".O.....O#.\",\n",
    "    \"O.#..O.#.#\",\n",
    "    \"..O..#O..O\",\n",
    "    \".......O..\",\n",
    "    \"#....###..\",\n",
    "    \"#OO..#....\",\n",
    ")\n",
    "getTotalLoad(example)"
   ],
   "metadata": {
    "collapsed": false,
    "ExecuteTime": {
     "end_time": "2023-12-17T11:53:00.150012200Z",
     "start_time": "2023-12-17T11:52:59.398031500Z"
    }
   }
  },
  {
   "cell_type": "markdown",
   "source": [
    "## Solution"
   ],
   "metadata": {
    "collapsed": false
   }
  },
  {
   "cell_type": "code",
   "execution_count": 4,
   "outputs": [
    {
     "data": {
      "text/plain": "103614"
     },
     "execution_count": 4,
     "metadata": {},
     "output_type": "execute_result"
    }
   ],
   "source": [
    "getTotalLoad(input)"
   ],
   "metadata": {
    "collapsed": false,
    "ExecuteTime": {
     "end_time": "2023-12-17T11:53:00.258899200Z",
     "start_time": "2023-12-17T11:52:59.748482100Z"
    }
   }
  },
  {
   "cell_type": "markdown",
   "source": [
    "# Part 2"
   ],
   "metadata": {
    "collapsed": false
   }
  },
  {
   "cell_type": "code",
   "execution_count": 5,
   "outputs": [],
   "source": [
    "fun getTotalLoad(map: Map, cycles: Int): Int {\n",
    "    val results = mutableListOf<Map>()\n",
    "    var currentMap = map\n",
    "    var offset: Int? = null\n",
    "\n",
    "    while (offset == null) {\n",
    "        currentMap = currentMap.tiltNorth().tiltWest().tiltSouth().tiltEast()\n",
    "        val index = results.indexOf(currentMap)\n",
    "        if (index >= 0) {\n",
    "            offset = index\n",
    "        } else {\n",
    "            results.add(currentMap)\n",
    "        }\n",
    "    }\n",
    "\n",
    "    val loopSize = results.size - offset\n",
    "    val index = (cycles - 1 - offset) % loopSize + offset\n",
    "    val newMap = results[index]\n",
    "    return newMap.calculateNorthLoad()\n",
    "}"
   ],
   "metadata": {
    "collapsed": false,
    "ExecuteTime": {
     "end_time": "2023-12-17T11:53:00.297899700Z",
     "start_time": "2023-12-17T11:52:59.908004300Z"
    }
   }
  },
  {
   "cell_type": "markdown",
   "source": [
    "## Example"
   ],
   "metadata": {
    "collapsed": false
   }
  },
  {
   "cell_type": "code",
   "execution_count": 6,
   "outputs": [
    {
     "data": {
      "text/plain": "64"
     },
     "execution_count": 6,
     "metadata": {},
     "output_type": "execute_result"
    }
   ],
   "source": [
    "getTotalLoad(example, 1000000000)"
   ],
   "metadata": {
    "collapsed": false,
    "ExecuteTime": {
     "end_time": "2023-12-17T11:53:00.359393900Z",
     "start_time": "2023-12-17T11:53:00.131012300Z"
    }
   }
  },
  {
   "cell_type": "markdown",
   "source": [
    "## Solution"
   ],
   "metadata": {
    "collapsed": false
   }
  },
  {
   "cell_type": "code",
   "execution_count": 7,
   "outputs": [
    {
     "data": {
      "text/plain": "83790"
     },
     "execution_count": 7,
     "metadata": {},
     "output_type": "execute_result"
    }
   ],
   "source": [
    "getTotalLoad(input, 1000000000)"
   ],
   "metadata": {
    "collapsed": false,
    "ExecuteTime": {
     "end_time": "2023-12-17T11:53:01.372579600Z",
     "start_time": "2023-12-17T11:53:00.197378900Z"
    }
   }
  }
 ],
 "metadata": {
  "kernelspec": {
   "display_name": "Kotlin",
   "language": "kotlin",
   "name": "kotlin"
  },
  "language_info": {
   "name": "kotlin",
   "version": "1.9.0",
   "mimetype": "text/x-kotlin",
   "file_extension": ".kt",
   "pygments_lexer": "kotlin",
   "codemirror_mode": "text/x-kotlin",
   "nbconvert_exporter": ""
  }
 },
 "nbformat": 4,
 "nbformat_minor": 0
}
