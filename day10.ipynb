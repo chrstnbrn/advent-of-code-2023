{
 "cells": [
  {
   "cell_type": "code",
   "execution_count": 1,
   "metadata": {
    "collapsed": true,
    "ExecuteTime": {
     "end_time": "2023-12-10T17:58:32.950255900Z",
     "start_time": "2023-12-10T17:58:27.400177200Z"
    }
   },
   "outputs": [],
   "source": [
    "import kotlin.io.path.Path\n",
    "import kotlin.io.path.readLines\n",
    "\n",
    "val input = Path(\"day10.txt\").readLines()\n",
    "\n",
    "typealias Sketch = List<String>\n",
    "data class Position(val row: Int, val column: Int)\n",
    "\n",
    "fun Position.top() = Position(row - 1, column)\n",
    "fun Position.bottom() = Position(row + 1, column)\n",
    "fun Position.left() = Position(row, column - 1)\n",
    "fun Position.right() = Position(row, column + 1)"
   ]
  },
  {
   "cell_type": "markdown",
   "source": [
    "# Part 1"
   ],
   "metadata": {
    "collapsed": false
   }
  },
  {
   "cell_type": "code",
   "execution_count": 2,
   "outputs": [],
   "source": [
    "fun getResult(sketch: Sketch): Int {\n",
    "    val path = getLoop(sketch)\n",
    "    return path.size / 2\n",
    "}\n",
    "\n",
    "fun getLoop(sketch: Sketch): List<Position> {\n",
    "    val animalPosition = sketch.mapIndexed { i, row -> Position(i, row.indexOf('S')) }.find { p -> p.column >= 0 }!!\n",
    "    return getPath(animalPosition, sketch)\n",
    "}\n",
    "\n",
    "fun getPath(startingPosition: Position, sketch: Sketch): List<Position> {\n",
    "    val (firstConnectingPipe, secondConnectingPipe) = getConnectingPipes(sketch, startingPosition)\n",
    "    val path = mutableListOf<Position>(startingPosition, firstConnectingPipe)\n",
    "    while (path.last() != secondConnectingPipe) {\n",
    "        val connectingPipes = getConnectingPipes(sketch, path.last())\n",
    "        val nextPipe = connectingPipes.find { it != path.get(path.size - 2) }!!\n",
    "        path.add(nextPipe)\n",
    "    }\n",
    "    return path\n",
    "}\n",
    "\n",
    "fun getTile(sketch: Sketch, position: Position) = sketch.getOrNull(position.row)?.getOrNull(position.column)\n",
    "\n",
    "fun getConnectingPipes(sketch: Sketch, position: Position): List<Position> {\n",
    "    val positions = listOf(position.top(), position.bottom(), position.left(), position.right())\n",
    "    return positions.filter { areConnected(sketch, position, it) }\n",
    "}\n",
    "\n",
    "fun areConnected(sketch: Sketch, position1: Position, position2: Position): Boolean {\n",
    "    val tile1 = getTile(sketch, position1)\n",
    "    val tile2 = getTile(sketch, position2)\n",
    "\n",
    "    if (tile1 == null || tile2 == null) {\n",
    "        return false\n",
    "    }\n",
    "\n",
    "    if (position1.top() == position2) {\n",
    "        return listOf('S', '|', 'L', 'J').contains(tile1) && listOf('S', '|', '7', 'F').contains(tile2)\n",
    "    }\n",
    "    if (position1.bottom() == position2) {\n",
    "        return listOf('S', '|', '7', 'F').contains(tile1) && listOf('S', '|', 'L', 'J').contains(tile2)\n",
    "    }\n",
    "    if (position1.left() == position2) {\n",
    "        return listOf('S', '-', '7', 'J').contains(tile1) && listOf('S', '-', 'F', 'L').contains(tile2)\n",
    "    }\n",
    "    if (position1.right() == position2) {\n",
    "        return listOf('S', '-', 'F', 'L').contains(tile1) && listOf('S', '-', '7', 'J').contains(tile2)\n",
    "    }\n",
    "\n",
    "    return false\n",
    "}"
   ],
   "metadata": {
    "collapsed": false,
    "ExecuteTime": {
     "end_time": "2023-12-10T17:58:37.795919100Z",
     "start_time": "2023-12-10T17:58:32.971299800Z"
    }
   }
  },
  {
   "cell_type": "markdown",
   "source": [
    "## Example 1"
   ],
   "metadata": {
    "collapsed": false
   }
  },
  {
   "cell_type": "code",
   "execution_count": 3,
   "outputs": [
    {
     "data": {
      "text/plain": "4"
     },
     "execution_count": 3,
     "metadata": {},
     "output_type": "execute_result"
    }
   ],
   "source": [
    "val example = listOf(\n",
    "    \".....\",\n",
    "    \".S-7.\",\n",
    "    \".|.|.\",\n",
    "    \".L-J.\",\n",
    "    \".....\",\n",
    ")\n",
    "getResult(example)\n"
   ],
   "metadata": {
    "collapsed": false,
    "ExecuteTime": {
     "end_time": "2023-12-10T17:58:38.355399600Z",
     "start_time": "2023-12-10T17:58:37.804917600Z"
    }
   }
  },
  {
   "cell_type": "markdown",
   "source": [
    "## Example 2"
   ],
   "metadata": {
    "collapsed": false
   }
  },
  {
   "cell_type": "code",
   "execution_count": 4,
   "outputs": [
    {
     "data": {
      "text/plain": "8"
     },
     "execution_count": 4,
     "metadata": {},
     "output_type": "execute_result"
    }
   ],
   "source": [
    "val example2 = listOf(\n",
    "    \"..F7.\",\n",
    "    \".FJ|.\",\n",
    "    \"SJ.L7\",\n",
    "    \"|F--J\",\n",
    "    \"LJ...\"\n",
    ")\n",
    "getResult(example2)"
   ],
   "metadata": {
    "collapsed": false,
    "ExecuteTime": {
     "end_time": "2023-12-10T17:58:38.742313400Z",
     "start_time": "2023-12-10T17:58:38.342744100Z"
    }
   }
  },
  {
   "cell_type": "markdown",
   "source": [
    "## Solution"
   ],
   "metadata": {
    "collapsed": false
   }
  },
  {
   "cell_type": "code",
   "execution_count": 5,
   "outputs": [
    {
     "data": {
      "text/plain": "7030"
     },
     "execution_count": 5,
     "metadata": {},
     "output_type": "execute_result"
    }
   ],
   "source": [
    "getResult(input)"
   ],
   "metadata": {
    "collapsed": false,
    "ExecuteTime": {
     "end_time": "2023-12-10T17:58:39.535713900Z",
     "start_time": "2023-12-10T17:58:38.601323900Z"
    }
   }
  },
  {
   "cell_type": "markdown",
   "source": [
    "# Part 2"
   ],
   "metadata": {
    "collapsed": false
   }
  },
  {
   "cell_type": "code",
   "execution_count": 6,
   "outputs": [],
   "source": [
    "fun getInsideCount(sketch: Sketch): Int {\n",
    "    val path = getLoop(sketch)\n",
    "    val allPositions = sketch.flatMapIndexed { i, row -> row.indices.map { Position(i, it) } }\n",
    "    val floorPositions = allPositions.toSet().minus(path.toSet())\n",
    "    return floorPositions.count { isInside(path, it, sketch) }\n",
    "}\n",
    "\n",
    "fun getReplacedTile(sketch: Sketch, position: Position, path: List<Position>): Char {\n",
    "    val tile = getTile(sketch, position)!!\n",
    "    if (tile != 'S') {\n",
    "        return tile\n",
    "    } else {\n",
    "        val neighbors = setOf(path[1], path.last())\n",
    "        val hasTopNeighbor = neighbors.any { it == position.top() }\n",
    "        val hasBottomNeighbor = neighbors.any { it == position.bottom() }\n",
    "        val hasLeftNeighbor = neighbors.any { it == position.left() }\n",
    "        val hasRightNeighbor = neighbors.any { it == position.right() }\n",
    "        if (hasTopNeighbor && hasBottomNeighbor) {\n",
    "            return '|'\n",
    "        }\n",
    "        if (hasTopNeighbor && hasLeftNeighbor) {\n",
    "            return 'J'\n",
    "        }\n",
    "        if (hasTopNeighbor && hasRightNeighbor) {\n",
    "            return 'L'\n",
    "        }\n",
    "        if (hasBottomNeighbor && hasLeftNeighbor) {\n",
    "            return '7'\n",
    "        }\n",
    "        if (hasBottomNeighbor && hasRightNeighbor) {\n",
    "            return 'F'\n",
    "        }\n",
    "        if (hasLeftNeighbor && hasRightNeighbor) {\n",
    "            return '-'\n",
    "        }\n",
    "\n",
    "        throw Exception(\"invalid\")\n",
    "    }\n",
    "}\n",
    "\n",
    "fun isInside(path: List<Position>, position: Position, sketch: Sketch): Boolean {\n",
    "    val leftPositions = path.filter { it.row == position.row && it.column < position.column }\n",
    "    \n",
    "    val countCrossings = leftPositions.count {\n",
    "        val tile = getReplacedTile(sketch, it, path)\n",
    "        \"|JL\".contains(tile)\n",
    "    }\n",
    "    \n",
    "    return countCrossings % 2 != 0\n",
    "}"
   ],
   "metadata": {
    "collapsed": false,
    "ExecuteTime": {
     "end_time": "2023-12-10T17:58:43.207126Z",
     "start_time": "2023-12-10T17:58:39.405930300Z"
    }
   }
  },
  {
   "cell_type": "markdown",
   "source": [
    "## Example 1"
   ],
   "metadata": {
    "collapsed": false
   }
  },
  {
   "cell_type": "code",
   "execution_count": 7,
   "outputs": [
    {
     "data": {
      "text/plain": "4"
     },
     "execution_count": 7,
     "metadata": {},
     "output_type": "execute_result"
    }
   ],
   "source": [
    "val example = listOf(\n",
    "    \"..........\",\n",
    "    \".S------7.\",\n",
    "    \".|F----7|.\",\n",
    "    \".||....||.\",\n",
    "    \".||....||.\",\n",
    "    \".|L-7F-J|.\",\n",
    "    \".|..||..|.\",\n",
    "    \".L--JL--J.\",\n",
    "    \"..........\",\n",
    ")\n",
    "getInsideCount(example)"
   ],
   "metadata": {
    "collapsed": false,
    "ExecuteTime": {
     "end_time": "2023-12-10T17:58:44.233861Z",
     "start_time": "2023-12-10T17:58:43.222126200Z"
    }
   }
  },
  {
   "cell_type": "markdown",
   "source": [
    "## Example 2"
   ],
   "metadata": {
    "collapsed": false
   }
  },
  {
   "cell_type": "code",
   "execution_count": 8,
   "outputs": [
    {
     "data": {
      "text/plain": "8"
     },
     "execution_count": 8,
     "metadata": {},
     "output_type": "execute_result"
    }
   ],
   "source": [
    "val example = listOf(\n",
    "    \".F----7F7F7F7F-7....\",\n",
    "    \".|F--7||||||||FJ....\",\n",
    "    \".||.FJ||||||||L7....\",\n",
    "    \"FJL7L7LJLJ||LJ.L-7..\",\n",
    "    \"L--J.L7...LJS7F-7L7.\",\n",
    "    \"....F-J..F7FJ|L7L7L7\",\n",
    "    \"....L7.F7||L7|.L7L7|\",\n",
    "    \".....|FJLJ|FJ|F7|.LJ\",\n",
    "    \"....FJL-7.||.||||...\",\n",
    "    \"....L---J.LJ.LJLJ...\",\n",
    ")\n",
    "getInsideCount(example)"
   ],
   "metadata": {
    "collapsed": false,
    "ExecuteTime": {
     "end_time": "2023-12-10T17:58:44.974250100Z",
     "start_time": "2023-12-10T17:58:44.053721800Z"
    }
   }
  },
  {
   "cell_type": "markdown",
   "source": [
    "## Example 3"
   ],
   "metadata": {
    "collapsed": false
   }
  },
  {
   "cell_type": "code",
   "execution_count": 9,
   "outputs": [
    {
     "data": {
      "text/plain": "10"
     },
     "execution_count": 9,
     "metadata": {},
     "output_type": "execute_result"
    }
   ],
   "source": [
    "val example = listOf(\n",
    "    \"FF7FSF7F7F7F7F7F---7\",\n",
    "    \"L|LJ||||||||||||F--J\",\n",
    "    \"FL-7LJLJ||||||LJL-77\",\n",
    "    \"F--JF--7||LJLJ7F7FJ-\",\n",
    "    \"L---JF-JLJ.||-FJLJJ7\",\n",
    "    \"|F|F-JF---7F7-L7L|7|\",\n",
    "    \"|FFJF7L7F-JF7|JL---7\",\n",
    "    \"7-L-JL7||F7|L7F-7F7|\",\n",
    "    \"L.L7LFJ|||||FJL7||LJ\",\n",
    "    \"L7JLJL-JLJLJL--JLJ.L\",\n",
    ")\n",
    "getInsideCount(example)"
   ],
   "metadata": {
    "collapsed": false,
    "ExecuteTime": {
     "end_time": "2023-12-10T17:58:45.404284800Z",
     "start_time": "2023-12-10T17:58:44.733148500Z"
    }
   }
  },
  {
   "cell_type": "markdown",
   "source": [
    "## Solution"
   ],
   "metadata": {
    "collapsed": false
   }
  },
  {
   "cell_type": "code",
   "execution_count": 10,
   "outputs": [
    {
     "data": {
      "text/plain": "285"
     },
     "execution_count": 10,
     "metadata": {},
     "output_type": "execute_result"
    }
   ],
   "source": [
    "getInsideCount(input)"
   ],
   "metadata": {
    "collapsed": false,
    "ExecuteTime": {
     "end_time": "2023-12-10T17:58:47.475781200Z",
     "start_time": "2023-12-10T17:58:45.308261700Z"
    }
   }
  }
 ],
 "metadata": {
  "kernelspec": {
   "display_name": "Kotlin",
   "language": "kotlin",
   "name": "kotlin"
  },
  "language_info": {
   "name": "kotlin",
   "version": "1.9.0",
   "mimetype": "text/x-kotlin",
   "file_extension": ".kt",
   "pygments_lexer": "kotlin",
   "codemirror_mode": "text/x-kotlin",
   "nbconvert_exporter": ""
  }
 },
 "nbformat": 4,
 "nbformat_minor": 0
}
