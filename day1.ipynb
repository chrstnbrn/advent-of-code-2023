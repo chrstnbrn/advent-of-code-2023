{
 "cells": [
  {
   "cell_type": "code",
   "execution_count": 32,
   "metadata": {
    "collapsed": true,
    "ExecuteTime": {
     "end_time": "2023-12-01T07:59:36.417215400Z",
     "start_time": "2023-12-01T07:59:36.262314500Z"
    }
   },
   "outputs": [],
   "source": [
    "import kotlin.io.path.Path\n",
    "import kotlin.io.path.readLines\n",
    "\n",
    "val values = Path(\"day1.txt\").readLines()"
   ]
  },
  {
   "cell_type": "markdown",
   "source": [
    "# Part 1"
   ],
   "metadata": {
    "collapsed": false
   }
  },
  {
   "cell_type": "code",
   "execution_count": 33,
   "outputs": [
    {
     "data": {
      "text/plain": "54632"
     },
     "execution_count": 33,
     "metadata": {},
     "output_type": "execute_result"
    }
   ],
   "source": [
    "fun getCalibrationValue(value: String): Int {\n",
    "    val firstDigit = value.first { it.isDigit() }\n",
    "    val lastDigit = value.last { it.isDigit() }\n",
    "    return \"${firstDigit}${lastDigit}\".toInt()\n",
    "}\n",
    "\n",
    "values.sumOf { getCalibrationValue(it) }"
   ],
   "metadata": {
    "collapsed": false,
    "ExecuteTime": {
     "end_time": "2023-12-01T07:59:36.608722500Z",
     "start_time": "2023-12-01T07:59:36.389557900Z"
    }
   }
  },
  {
   "cell_type": "markdown",
   "source": [
    "# Part 2"
   ],
   "metadata": {
    "collapsed": false
   }
  },
  {
   "cell_type": "code",
   "execution_count": 34,
   "outputs": [
    {
     "data": {
      "text/plain": "54019"
     },
     "execution_count": 34,
     "metadata": {},
     "output_type": "execute_result"
    }
   ],
   "source": [
    "val digits = buildMap {\n",
    "    for (i in 1..9)\n",
    "        put(i.toString(), i)\n",
    "\n",
    "    put(\"one\", 1)\n",
    "    put(\"two\", 2)\n",
    "    put(\"three\", 3)\n",
    "    put(\"four\", 4)\n",
    "    put(\"five\", 5)\n",
    "    put(\"six\", 6)\n",
    "    put(\"seven\", 7)\n",
    "    put(\"eight\", 8)\n",
    "    put(\"nine\", 9)\n",
    "}\n",
    "\n",
    "fun getCalibrationValue2(value: String): Int {\n",
    "    val (_, firstDigit) = value.findAnyOf(digits.keys)!!\n",
    "    val (_, lastDigit) = value.findLastAnyOf(digits.keys)!!\n",
    "    return digits[firstDigit]!! * 10 + digits[lastDigit]!!\n",
    "}\n",
    "\n",
    "values.sumOf { getCalibrationValue2(it) }"
   ],
   "metadata": {
    "collapsed": false,
    "ExecuteTime": {
     "end_time": "2023-12-01T07:59:37.176991800Z",
     "start_time": "2023-12-01T07:59:36.584297500Z"
    }
   }
  }
 ],
 "metadata": {
  "kernelspec": {
   "display_name": "Kotlin",
   "language": "kotlin",
   "name": "kotlin"
  },
  "language_info": {
   "name": "kotlin",
   "version": "1.9.0",
   "mimetype": "text/x-kotlin",
   "file_extension": ".kt",
   "pygments_lexer": "kotlin",
   "codemirror_mode": "text/x-kotlin",
   "nbconvert_exporter": ""
  }
 },
 "nbformat": 4,
 "nbformat_minor": 0
}
