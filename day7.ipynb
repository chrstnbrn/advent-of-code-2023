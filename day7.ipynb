{
 "cells": [
  {
   "cell_type": "code",
   "execution_count": 1,
   "metadata": {
    "collapsed": true,
    "ExecuteTime": {
     "end_time": "2023-12-07T23:05:00.053567800Z",
     "start_time": "2023-12-07T23:04:56.923078700Z"
    }
   },
   "outputs": [],
   "source": [
    "import kotlin.io.path.Path\n",
    "import kotlin.io.path.readLines\n",
    "\n",
    "val input = Path(\"day7.txt\").readLines()\n",
    "\n",
    "val exampleInput = listOf(\n",
    "    \"32T3K 765\",\n",
    "    \"T55J5 684\",\n",
    "    \"KK677 28\",\n",
    "    \"KTJJT 220\",\n",
    "    \"QQQJA 483\",\n",
    ")\n",
    "\n",
    "typealias Card = Char\n",
    "\n",
    "enum class HandType {\n",
    "    HighCard,\n",
    "    OnePair,\n",
    "    TwoPair,\n",
    "    ThreeOfAKind,\n",
    "    FullHouse,\n",
    "    FourOfAKind,\n",
    "    FiveOfAKind,\n",
    "}\n",
    "\n",
    "val cardStrengths = listOf('A', 'K', 'Q', 'J', 'T', '9', '8', '7', '6', '5', '4', '3', '2', 'J')\n",
    "\n",
    "data class Hand(val cards: List<Card>, val bid: Int) : Comparable<Hand> {\n",
    "    override fun compareTo(other: Hand): Int {\n",
    "        val typeComparisonResult = getType().compareTo(other.getType())\n",
    "        if (typeComparisonResult == 0) {\n",
    "            return compareCards(other)\n",
    "        }\n",
    "        return typeComparisonResult\n",
    "    }\n",
    "    \n",
    "    private fun getType(): HandType {\n",
    "        val counts = cards.groupingBy { it }.eachCount().map { it.value }.sortedDescending()\n",
    "        return when {\n",
    "            counts[0] == 5 -> HandType.FiveOfAKind\n",
    "            counts[0] == 4 -> HandType.FourOfAKind\n",
    "            counts[0] == 3 && counts[1] == 2 -> HandType.FullHouse\n",
    "            counts[0] == 3 -> HandType.ThreeOfAKind\n",
    "            counts[0] == 2 && counts[1] == 2 -> HandType.TwoPair\n",
    "            counts[0] == 2 -> HandType.OnePair\n",
    "            else -> HandType.HighCard\n",
    "        }\n",
    "    }\n",
    "\n",
    "    fun compareCards(other: Hand): Int {\n",
    "        val firstDiff = cards.zip(other.cards).firstOrNull { (c1, c2) -> c1 != c2 }\n",
    "        if (firstDiff == null) {\n",
    "            return 0\n",
    "        }\n",
    "        return cardStrengths.indexOf(firstDiff.second) - cardStrengths.indexOf(firstDiff.first)\n",
    "    }\n",
    "}\n",
    "\n",
    "fun parseHand(value: String): Hand {\n",
    "    val (cards, bid) = value.split(' ')\n",
    "    return Hand(cards.toList(), bid.toInt())\n",
    "}\n",
    "\n",
    "val exampleCards = exampleInput.map { parseHand(it) }\n",
    "val cards = input.map { parseHand(it) }"
   ]
  },
  {
   "cell_type": "markdown",
   "source": [
    "# Part 1"
   ],
   "metadata": {
    "collapsed": false
   }
  },
  {
   "cell_type": "code",
   "execution_count": 2,
   "outputs": [],
   "source": [
    "fun getResult(hands: List<Hand>): Int {\n",
    "    val sortedHands = hands.sorted()\n",
    "    return sortedHands.mapIndexed { i, hand -> hand.bid * (i + 1) }.sum()\n",
    "}"
   ],
   "metadata": {
    "collapsed": false,
    "ExecuteTime": {
     "end_time": "2023-12-07T23:05:00.229082100Z",
     "start_time": "2023-12-07T23:05:00.058573700Z"
    }
   }
  },
  {
   "cell_type": "markdown",
   "source": [
    "## Example"
   ],
   "metadata": {
    "collapsed": false
   }
  },
  {
   "cell_type": "code",
   "execution_count": 3,
   "outputs": [
    {
     "data": {
      "text/plain": "6440"
     },
     "execution_count": 3,
     "metadata": {},
     "output_type": "execute_result"
    }
   ],
   "source": [
    "getResult(exampleCards)"
   ],
   "metadata": {
    "collapsed": false,
    "ExecuteTime": {
     "end_time": "2023-12-07T23:05:00.342109600Z",
     "start_time": "2023-12-07T23:05:00.234601200Z"
    }
   }
  },
  {
   "cell_type": "markdown",
   "source": [
    "## Solution"
   ],
   "metadata": {
    "collapsed": false
   }
  },
  {
   "cell_type": "code",
   "execution_count": 4,
   "outputs": [
    {
     "data": {
      "text/plain": "250254244"
     },
     "execution_count": 4,
     "metadata": {},
     "output_type": "execute_result"
    }
   ],
   "source": [
    "getResult(cards)"
   ],
   "metadata": {
    "collapsed": false,
    "ExecuteTime": {
     "end_time": "2023-12-07T23:05:00.467481600Z",
     "start_time": "2023-12-07T23:05:00.333592400Z"
    }
   }
  },
  {
   "cell_type": "markdown",
   "source": [
    "# Part 2"
   ],
   "metadata": {
    "collapsed": false
   }
  },
  {
   "cell_type": "code",
   "execution_count": 5,
   "outputs": [],
   "source": [
    "val cardStrengths = listOf('A', 'K', 'Q', 'T', '9', '8', '7', '6', '5', '4', '3', '2', 'J')\n",
    "\n",
    "data class Hand(val cards: List<Card>, val bid: Int) : Comparable<Hand> {\n",
    "    override fun compareTo(other: Hand): Int {\n",
    "        val typeComparisonResult = getType().compareTo(other.getType())\n",
    "        if (typeComparisonResult == 0) {\n",
    "            return compareCards(other)\n",
    "        }\n",
    "        return typeComparisonResult\n",
    "    }\n",
    "\n",
    "    fun compareCards(other: Hand): Int {\n",
    "        val firstDiff = cards.zip(other.cards).firstOrNull { (c1, c2) -> c1 != c2 }\n",
    "        if (firstDiff == null) {\n",
    "            return 0\n",
    "        }\n",
    "        return cardStrengths.indexOf(firstDiff.second) - cardStrengths.indexOf(firstDiff.first)\n",
    "    }\n",
    "\n",
    "    private fun getType(): HandType {\n",
    "        val cardsCount = cards.groupingBy { it }.eachCount()\n",
    "        val jokerCount = cardsCount.getOrDefault('J', 0)\n",
    "\n",
    "        val counts = cardsCount\n",
    "            .filter { (card, _) -> card != 'J' }\n",
    "            .map { it.value }\n",
    "            .sortedDescending()\n",
    "            .ifEmpty { listOf(0) }\n",
    "            .mapIndexed { i, count -> if (i == 0) count + jokerCount else count }\n",
    "\n",
    "\n",
    "        val firstCount = counts[0]\n",
    "        val secondCount = if (counts.size > 1) counts[1] else 0\n",
    "        return when {\n",
    "            firstCount == 5 -> HandType.FiveOfAKind\n",
    "            firstCount == 4 -> HandType.FourOfAKind\n",
    "            firstCount == 3 && secondCount == 2 -> HandType.FullHouse\n",
    "            firstCount == 3 -> HandType.ThreeOfAKind\n",
    "            firstCount == 2 && secondCount == 2 -> HandType.TwoPair\n",
    "            firstCount == 2 -> HandType.OnePair\n",
    "            else -> HandType.HighCard\n",
    "        }\n",
    "    }\n",
    "}\n",
    "\n",
    "fun parseHand(value: String): Hand {\n",
    "    val (cards, bid) = value.split(' ')\n",
    "    return Hand(cards.toList(), bid.toInt())\n",
    "}\n",
    "\n",
    "val exampleCards = exampleInput.map { parseHand(it) }\n",
    "val cards = input.map { parseHand(it) }\n",
    "\n",
    "fun getResult(hands: List<Hand>): Int {\n",
    "    val sortedHands = hands.sorted()\n",
    "    return sortedHands.mapIndexed { i, hand -> hand.bid * (i + 1) }.sum()\n",
    "}\n"
   ],
   "metadata": {
    "collapsed": false,
    "ExecuteTime": {
     "end_time": "2023-12-07T23:05:02.459939900Z",
     "start_time": "2023-12-07T23:05:00.462483Z"
    }
   }
  },
  {
   "cell_type": "markdown",
   "source": [
    "## Example"
   ],
   "metadata": {
    "collapsed": false
   }
  },
  {
   "cell_type": "code",
   "execution_count": 6,
   "outputs": [
    {
     "data": {
      "text/plain": "5905"
     },
     "execution_count": 6,
     "metadata": {},
     "output_type": "execute_result"
    }
   ],
   "source": [
    "getResult(exampleCards)"
   ],
   "metadata": {
    "collapsed": false,
    "ExecuteTime": {
     "end_time": "2023-12-07T23:05:02.582002500Z",
     "start_time": "2023-12-07T23:05:02.439415800Z"
    }
   }
  },
  {
   "cell_type": "markdown",
   "source": [
    "## Solution"
   ],
   "metadata": {
    "collapsed": false
   }
  },
  {
   "cell_type": "code",
   "execution_count": 7,
   "outputs": [
    {
     "data": {
      "text/plain": "250087440"
     },
     "execution_count": 7,
     "metadata": {},
     "output_type": "execute_result"
    }
   ],
   "source": [
    "getResult(cards)"
   ],
   "metadata": {
    "collapsed": false,
    "ExecuteTime": {
     "end_time": "2023-12-07T23:05:02.894097800Z",
     "start_time": "2023-12-07T23:05:02.579003400Z"
    }
   }
  }
 ],
 "metadata": {
  "kernelspec": {
   "display_name": "Kotlin",
   "language": "kotlin",
   "name": "kotlin"
  },
  "language_info": {
   "name": "kotlin",
   "version": "1.9.0",
   "mimetype": "text/x-kotlin",
   "file_extension": ".kt",
   "pygments_lexer": "kotlin",
   "codemirror_mode": "text/x-kotlin",
   "nbconvert_exporter": ""
  }
 },
 "nbformat": 4,
 "nbformat_minor": 0
}
