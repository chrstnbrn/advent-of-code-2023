{
 "cells": [
  {
   "cell_type": "code",
   "execution_count": 1,
   "metadata": {
    "collapsed": true,
    "ExecuteTime": {
     "end_time": "2023-12-10T09:40:28.319447400Z",
     "start_time": "2023-12-10T09:40:27.150043600Z"
    }
   },
   "outputs": [],
   "source": [
    "import kotlin.io.path.Path\n",
    "import kotlin.io.path.readLines\n",
    "\n",
    "val input = Path(\"day10.txt\").readLines()\n",
    "\n",
    "typealias Sketch = List<String>\n",
    "typealias Position = Pair<Int, Int>"
   ]
  },
  {
   "cell_type": "markdown",
   "source": [
    "# Part 1"
   ],
   "metadata": {
    "collapsed": false
   }
  },
  {
   "cell_type": "code",
   "execution_count": 2,
   "outputs": [],
   "source": [
    "fun getResult(sketch: Sketch): Int {\n",
    "    val animalPosition = sketch.mapIndexed { i, row -> i to row.indexOf('S') }.find { (_, j) -> j >= 0 }!!\n",
    "    val path = getPath(animalPosition, sketch)\n",
    "    return path.size / 2\n",
    "}\n",
    "\n",
    "fun getPath(startingPosition: Position, sketch: Sketch): List<Position> {\n",
    "    val (firstConnectingPipe, secondConnectingPipe) = getConnectingPipes(sketch, startingPosition)\n",
    "    val path = mutableListOf<Position>(startingPosition, firstConnectingPipe)\n",
    "    while (path.last() != secondConnectingPipe) {\n",
    "        val connectingPipes = getConnectingPipes(sketch, path.last())\n",
    "        val nextPipe = connectingPipes.find { it != path.get(path.size - 2) }!!\n",
    "        path.add(nextPipe)\n",
    "    }\n",
    "    return path\n",
    "}\n",
    "\n",
    "fun getTile(sketch: Sketch, position: Position) = sketch.getOrNull(position.first)?.getOrNull(position.second)\n",
    "\n",
    "fun getConnectingPipes(sketch: Sketch, position: Position): List<Position> {\n",
    "    val (row, column) = position\n",
    "    val tile = getTile(sketch, position)\n",
    "    return buildList {\n",
    "        if (tile == 'S' || tile == '|' || tile == 'L' || tile == 'J') {\n",
    "            val topTilePosition = row - 1 to column\n",
    "            val topTile = getTile(sketch, topTilePosition)\n",
    "            if (topTile == '|' || topTile == '7' || topTile == 'F') {\n",
    "                add(topTilePosition)\n",
    "            }\n",
    "        }\n",
    "\n",
    "\n",
    "        if (tile == 'S' || tile == '|' || tile == '7' || tile == 'F') {\n",
    "            val bottomTilePosition = row + 1 to column\n",
    "            val bottomTile = getTile(sketch, bottomTilePosition)\n",
    "            if (bottomTile == '|' || bottomTile == 'L' || bottomTile == 'J') {\n",
    "                add(bottomTilePosition)\n",
    "            }\n",
    "        }\n",
    "\n",
    "\n",
    "        if (tile == 'S' || tile == '-' || tile == '7' || tile == 'J') {\n",
    "            val leftTilePosition = row to column - 1\n",
    "            val leftTile = getTile(sketch, leftTilePosition)\n",
    "            if (leftTile == '-' || leftTile == 'F' || leftTile == 'L') {\n",
    "                add(leftTilePosition)\n",
    "            }\n",
    "        }\n",
    "\n",
    "\n",
    "        if (tile == 'S' || tile == '-' || tile == 'F' || tile == 'L') {\n",
    "            val rightTilePosition = row to column + 1\n",
    "            val rightTile = getTile(sketch, rightTilePosition)\n",
    "            if (rightTile == '-' || rightTile == '7' || rightTile == 'J') {\n",
    "                add(rightTilePosition)\n",
    "            }\n",
    "        }\n",
    "\n",
    "    }\n",
    "}"
   ],
   "metadata": {
    "collapsed": false,
    "ExecuteTime": {
     "end_time": "2023-12-10T09:40:31.767453500Z",
     "start_time": "2023-12-10T09:40:28.331432100Z"
    }
   }
  },
  {
   "cell_type": "markdown",
   "source": [
    "## Example 1"
   ],
   "metadata": {
    "collapsed": false
   }
  },
  {
   "cell_type": "code",
   "execution_count": 3,
   "outputs": [
    {
     "data": {
      "text/plain": "4"
     },
     "execution_count": 3,
     "metadata": {},
     "output_type": "execute_result"
    }
   ],
   "source": [
    "val example = listOf(\n",
    "    \".....\",\n",
    "    \".S-7.\",\n",
    "    \".|.|.\",\n",
    "    \".L-J.\",\n",
    "    \".....\",\n",
    ")\n",
    "getResult(example)\n"
   ],
   "metadata": {
    "collapsed": false,
    "ExecuteTime": {
     "end_time": "2023-12-10T09:40:32.283498500Z",
     "start_time": "2023-12-10T09:40:31.780454400Z"
    }
   }
  },
  {
   "cell_type": "markdown",
   "source": [
    "## Example 2"
   ],
   "metadata": {
    "collapsed": false
   }
  },
  {
   "cell_type": "code",
   "execution_count": 4,
   "outputs": [
    {
     "data": {
      "text/plain": "8"
     },
     "execution_count": 4,
     "metadata": {},
     "output_type": "execute_result"
    }
   ],
   "source": [
    "val example2 = listOf(\n",
    "    \"..F7.\",\n",
    "    \".FJ|.\",\n",
    "    \"SJ.L7\",\n",
    "    \"|F--J\",\n",
    "    \"LJ...\"\n",
    ")\n",
    "getResult(example2)"
   ],
   "metadata": {
    "collapsed": false,
    "ExecuteTime": {
     "end_time": "2023-12-10T09:40:32.770296400Z",
     "start_time": "2023-12-10T09:40:32.244942600Z"
    }
   }
  },
  {
   "cell_type": "markdown",
   "source": [
    "## Solution"
   ],
   "metadata": {
    "collapsed": false
   }
  },
  {
   "cell_type": "code",
   "execution_count": 5,
   "outputs": [
    {
     "data": {
      "text/plain": "7030"
     },
     "execution_count": 5,
     "metadata": {},
     "output_type": "execute_result"
    }
   ],
   "source": [
    "getResult(input)"
   ],
   "metadata": {
    "collapsed": false,
    "ExecuteTime": {
     "end_time": "2023-12-10T09:40:33.259417100Z",
     "start_time": "2023-12-10T09:40:32.759728900Z"
    }
   }
  }
 ],
 "metadata": {
  "kernelspec": {
   "display_name": "Kotlin",
   "language": "kotlin",
   "name": "kotlin"
  },
  "language_info": {
   "name": "kotlin",
   "version": "1.9.0",
   "mimetype": "text/x-kotlin",
   "file_extension": ".kt",
   "pygments_lexer": "kotlin",
   "codemirror_mode": "text/x-kotlin",
   "nbconvert_exporter": ""
  }
 },
 "nbformat": 4,
 "nbformat_minor": 0
}
