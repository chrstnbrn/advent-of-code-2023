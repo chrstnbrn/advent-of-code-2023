{
 "cells": [
  {
   "cell_type": "code",
   "execution_count": 1,
   "metadata": {
    "collapsed": true,
    "ExecuteTime": {
     "end_time": "2023-12-02T12:22:30.388467200Z",
     "start_time": "2023-12-02T12:22:29.234481200Z"
    }
   },
   "outputs": [],
   "source": [
    "import kotlin.io.path.Path\n",
    "import kotlin.io.path.readLines\n",
    "\n",
    "val rows = Path(\"day2.txt\").readLines()\n",
    "\n",
    "val exampleRows = listOf(\n",
    "    \"Game 1: 3 blue, 4 red; 1 red, 2 green, 6 blue; 2 green\",\n",
    "    \"Game 2: 1 blue, 2 green; 3 green, 4 blue, 1 red; 1 green, 1 blue\",\n",
    "    \"Game 3: 8 green, 6 blue, 20 red; 5 blue, 4 red, 13 green; 5 green, 1 red\",\n",
    "    \"Game 4: 1 green, 3 red, 6 blue; 3 green, 6 red; 3 green, 15 blue, 14 red\",\n",
    "    \"Game 5: 6 red, 1 blue, 3 green; 2 blue, 1 red, 2 green\",\n",
    ")\n",
    "\n",
    "data class Game(val id: Int, val sets: List<CubeSet>)\n",
    "typealias CubeSet = Map<String, Int>\n",
    "\n",
    "fun parseGame(value: String): Game {\n",
    "    val (_, id, cubes) = value.split(\"Game \", \": \")\n",
    "    val sets = cubes.split(\"; \").map { parseCubeSet(it) }\n",
    "    return Game(id.toInt(), sets)\n",
    "}\n",
    "\n",
    "fun parseCubeSet(value: String): CubeSet {\n",
    "    return value\n",
    "        .split(\", \")\n",
    "        .associate { it.split(' ').let { (count, color) -> color to count.toInt() } }\n",
    "}\n",
    "\n",
    "val exampleGames = exampleRows.map { parseGame(it) }\n",
    "val games = rows.map { parseGame(it) }\n"
   ]
  },
  {
   "cell_type": "markdown",
   "source": [
    "# Part 1"
   ],
   "metadata": {
    "collapsed": false
   }
  },
  {
   "cell_type": "code",
   "execution_count": 2,
   "outputs": [],
   "source": [
    "fun Game.isPossible(totalSet: CubeSet) = sets.all { it.isPossible(totalSet) }\n",
    "fun CubeSet.isPossible(totalSet: CubeSet) = all { (color, count) -> count <= totalSet.getOrDefault(color, 0) }\n",
    "\n",
    "val totalSet = mapOf(\"red\" to 12, \"green\" to 13, \"blue\" to 14)"
   ],
   "metadata": {
    "collapsed": false,
    "ExecuteTime": {
     "end_time": "2023-12-02T12:22:30.712142800Z",
     "start_time": "2023-12-02T12:22:30.389528500Z"
    }
   }
  },
  {
   "cell_type": "markdown",
   "source": [
    "## Example"
   ],
   "metadata": {
    "collapsed": false
   }
  },
  {
   "cell_type": "code",
   "execution_count": 3,
   "outputs": [
    {
     "data": {
      "text/plain": "8"
     },
     "execution_count": 3,
     "metadata": {},
     "output_type": "execute_result"
    }
   ],
   "source": [
    "exampleGames.filter { it.isPossible(totalSet) }.sumOf { it.id }"
   ],
   "metadata": {
    "collapsed": false,
    "ExecuteTime": {
     "end_time": "2023-12-02T12:22:31.052519200Z",
     "start_time": "2023-12-02T12:22:30.716141Z"
    }
   }
  },
  {
   "cell_type": "markdown",
   "source": [
    "## Solution"
   ],
   "metadata": {
    "collapsed": false
   }
  },
  {
   "cell_type": "code",
   "execution_count": 4,
   "outputs": [
    {
     "data": {
      "text/plain": "2416"
     },
     "execution_count": 4,
     "metadata": {},
     "output_type": "execute_result"
    }
   ],
   "source": [
    "games.filter { it.isPossible(totalSet) }.sumOf { it.id }"
   ],
   "metadata": {
    "collapsed": false,
    "ExecuteTime": {
     "end_time": "2023-12-02T12:22:31.462694400Z",
     "start_time": "2023-12-02T12:22:31.071527700Z"
    }
   }
  },
  {
   "cell_type": "markdown",
   "source": [
    "# Part 2"
   ],
   "metadata": {
    "collapsed": false
   }
  },
  {
   "cell_type": "code",
   "execution_count": 5,
   "outputs": [],
   "source": [
    "fun Game.calculateMinimumCubeSet(): CubeSet {\n",
    "    return sets\n",
    "        .flatMap { it.entries }\n",
    "        .groupingBy { it.key }\n",
    "        .fold(0) { acc, (_, count) -> max(acc, count) }\n",
    "}\n",
    "\n",
    "fun CubeSet.power() = values.reduce(Int::times)"
   ],
   "metadata": {
    "collapsed": false,
    "ExecuteTime": {
     "end_time": "2023-12-02T12:22:31.984059500Z",
     "start_time": "2023-12-02T12:22:31.454691200Z"
    }
   }
  },
  {
   "cell_type": "markdown",
   "source": [
    "## Example"
   ],
   "metadata": {
    "collapsed": false
   }
  },
  {
   "cell_type": "code",
   "execution_count": 6,
   "outputs": [
    {
     "data": {
      "text/plain": "2286"
     },
     "execution_count": 6,
     "metadata": {},
     "output_type": "execute_result"
    }
   ],
   "source": [
    "exampleGames.sumOf { it.calculateMinimumCubeSet().power() }"
   ],
   "metadata": {
    "collapsed": false,
    "ExecuteTime": {
     "end_time": "2023-12-02T12:22:32.325837800Z",
     "start_time": "2023-12-02T12:22:31.989058800Z"
    }
   }
  },
  {
   "cell_type": "markdown",
   "source": [
    "## Solution"
   ],
   "metadata": {
    "collapsed": false
   }
  },
  {
   "cell_type": "code",
   "execution_count": 7,
   "outputs": [
    {
     "data": {
      "text/plain": "63307"
     },
     "execution_count": 7,
     "metadata": {},
     "output_type": "execute_result"
    }
   ],
   "source": [
    "games.sumOf { it.calculateMinimumCubeSet().power() }"
   ],
   "metadata": {
    "collapsed": false,
    "ExecuteTime": {
     "end_time": "2023-12-02T12:22:32.424362700Z",
     "start_time": "2023-12-02T12:22:32.272322900Z"
    }
   }
  }
 ],
 "metadata": {
  "kernelspec": {
   "display_name": "Kotlin",
   "language": "kotlin",
   "name": "kotlin"
  },
  "language_info": {
   "name": "kotlin",
   "version": "1.9.0",
   "mimetype": "text/x-kotlin",
   "file_extension": ".kt",
   "pygments_lexer": "kotlin",
   "codemirror_mode": "text/x-kotlin",
   "nbconvert_exporter": ""
  }
 },
 "nbformat": 4,
 "nbformat_minor": 0
}
